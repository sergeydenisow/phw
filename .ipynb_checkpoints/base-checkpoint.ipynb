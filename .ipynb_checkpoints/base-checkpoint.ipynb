{
 "cells": [
  {
   "cell_type": "markdown",
   "id": "owned-livestock",
   "metadata": {},
   "source": [
    "# Python. Домашние задания."
   ]
  },
  {
   "cell_type": "markdown",
   "id": "numerical-vacuum",
   "metadata": {},
   "source": [
    "# Оглавление\n",
    "\n",
    "1. [Основы Python](#base)  \n",
    "    1.1 [Задача №1](#base_task1)  \n",
    "    1.2 [Задача №2](#base_task2)  \n",
    "    1.3 [Задача №3](#base_task3)  \n",
    "    1.4 [Задача №4](#base_task4)  \n",
    "    1.5 [Задача №5](#base_task5)  \n",
    "2. [Управляющие конструкции. Часть 1.](#conditions1)  \n",
    "3. [Управляющие конструкции. Часть 2.](#conditions2)  \n",
    "    2.1 [Задача №1](#conditions2_task1)  \n",
    "    2.2 [Задача №2](#conditions2_task2)  \n",
    "    2.3 [Задача №3](#conditions2_task3)  \n",
    "    2.4 [Задача №4](#conditions2_task4)  \n",
    "    2.5 [Задача №5](#conditions2_task5)  "
   ]
  },
  {
   "cell_type": "markdown",
   "id": "diagnostic-preliminary",
   "metadata": {},
   "source": [
    "## Основы Python\n",
    "<a id='base'></a>"
   ]
  },
  {
   "cell_type": "markdown",
   "id": "gross-funds",
   "metadata": {},
   "source": [
    "### Задача №1\n",
    "<a id='base_task1'></a>"
   ]
  },
  {
   "cell_type": "code",
   "execution_count": 10,
   "id": "latest-region",
   "metadata": {},
   "outputs": [
    {
     "name": "stdout",
     "output_type": "stream",
     "text": [
      "Введите Фразу №1:\n",
      "Введите Фразу №2:\n",
      "Фраза 1 и Фраза 2 равны по длинне\n"
     ]
    }
   ],
   "source": [
    "#phrase_1 = 'Насколько проще было бы писать программы, если бы не заказчики'\n",
    "#phrase_2 = '640Кб должно хватить для любых задач. Билл Гейтс (по легенде)'\n",
    "\n",
    "phrase_1 = input(\"Введите Фразу №1:\")\n",
    "phrase_2 = input(\"Введите Фразу №2:\")\n",
    "\n",
    "if len(phrase_1) > len(phrase_2):\n",
    "    print(\"Фраза 1 длиннее Фразы 2\")\n",
    "elif len(phrase_1) == len(phrase_2):\n",
    "    print(\"Фраза 1 и Фраза 2 равны по длинне\")\n",
    "else: print(\"Фраза 2 длиннее Фразы 1\")"
   ]
  },
  {
   "cell_type": "markdown",
   "id": "involved-country",
   "metadata": {},
   "source": [
    "### Задача №2\n",
    "<a id='base_task2'></a>"
   ]
  },
  {
   "cell_type": "code",
   "execution_count": 32,
   "id": "written-donor",
   "metadata": {
    "scrolled": true
   },
   "outputs": [
    {
     "name": "stdout",
     "output_type": "stream",
     "text": [
      "Введите год:1996\n",
      "Високосный год.\n"
     ]
    }
   ],
   "source": [
    "year = int(input(\"Введите год:\"))\n",
    "\n",
    "if (year % 4) == 0:\n",
    "    print(\"Високосный год.\")\n",
    "else: print(\"Не високосный год\")"
   ]
  },
  {
   "cell_type": "markdown",
   "id": "social-coordinator",
   "metadata": {},
   "source": [
    "### Задача №3\n",
    "<a id='base_task3'></a>"
   ]
  },
  {
   "cell_type": "code",
   "execution_count": 37,
   "id": "boxed-fellowship",
   "metadata": {},
   "outputs": [
    {
     "name": "stdout",
     "output_type": "stream",
     "text": [
      "Введите свой день и месяц рождения.\n",
      "день: 14\n",
      "месяц: Август\n",
      "Ваш знак зодиака: \n",
      "Лев\n"
     ]
    }
   ],
   "source": [
    "print(\"Введите свой день и месяц рождения.\")\n",
    "day = int(input(\"день: \"))\n",
    "month = input(\"месяц: \")\n",
    "\n",
    "month_astro_sign = {\"Январь\": (19, \"Козерог\", \"Водолей\"),\n",
    "                   \"Февраль\": (18, \"Водолей\", \"Рыбы\"),\n",
    "                   \"Март\":    (20, \"Рыбы\", \"Овен\"),\n",
    "                   \"Апрель\":  (19, \"Овен\", \"Телец\"),\n",
    "                   \"Май\":     (20, \"Телец\", \"Близнецы\"),\n",
    "                   \"Июнь\":    (20, \"Близнецы\", \"Рак\"), \n",
    "                   \"Июль\":    (22, \"Рак\", \"Лев\"),\n",
    "                   \"Август\":  (22, \"Лев\", \"Дева\"),\n",
    "                   \"Сентабрь\":(22, \"Дева\", \"Весы\"),\n",
    "                   \"Октябрь\": (22, \"Весы\", \"Скорпион\"),\n",
    "                   \"Ноябрь\":  (21, \"Скорпион\", \"Сетрелец\"),\n",
    "                   \"Декабрь\": (21, \"Стрелец\", \"Козерог\")}\n",
    "\n",
    "print(\"Ваш знак зодиака: \")\n",
    "if day < month_astro_sign[month][0]:\n",
    "    print(month_astro_sign[month][1])\n",
    "else:\n",
    "    print(month_astro_sign[month][2])\n",
    "\n"
   ]
  },
  {
   "cell_type": "markdown",
   "id": "blessed-labor",
   "metadata": {},
   "source": [
    "### Задача №4\n",
    "<a id='base_task4'></a>"
   ]
  },
  {
   "cell_type": "code",
   "execution_count": 21,
   "id": "competitive-playlist",
   "metadata": {},
   "outputs": [
    {
     "name": "stdout",
     "output_type": "stream",
     "text": [
      "Стандартная коробка №3\n"
     ]
    }
   ],
   "source": [
    "width = 40\n",
    "length = 30\n",
    "height = 60\n",
    "\n",
    "# Упаковка для лыж - неч-то длинное и плоское. \n",
    "if length > 200 and width < 50 and height < 50:\n",
    "    print(\"Упаковка для лыж\")\n",
    "elif width < 15 and length < 15 and height < 15:\n",
    "    print(\"Коробка №1\")\n",
    "elif width < 50 and length < 50 and height < 50:\n",
    "    print(\"Коробка №2\")\n",
    "else:\n",
    "    print(\"Стандартная коробка №3\")\n"
   ]
  },
  {
   "cell_type": "markdown",
   "id": "understanding-cardiff",
   "metadata": {},
   "source": [
    "### Задача №5\n",
    "<a id='base_task5'></a>"
   ]
  },
  {
   "cell_type": "code",
   "execution_count": 36,
   "id": "romance-poker",
   "metadata": {},
   "outputs": [
    {
     "name": "stdout",
     "output_type": "stream",
     "text": [
      "Введите шестизначное число: \n",
      "345\n",
      "Это не шестизначное число!\n"
     ]
    }
   ],
   "source": [
    "print(\"Введите шестизначное число: \")\n",
    "number = input()\n",
    "\n",
    "if len(number) > 6 or len(number) < 5:\n",
    "    print(\"Это не шестизначное число!\")\n",
    "else:\n",
    "    s1 = int(number[0]) + int(number[1]) + int(number[2])\n",
    "    s2 = int(number[3]) + int(number[4]) + int(number[5])\n",
    "    if s1 == s2:\n",
    "        print(\"Это счастливое число!\")\n",
    "    else:\n",
    "        print(\"Это обычное число.\")\n"
   ]
  },
  {
   "cell_type": "markdown",
   "id": "legislative-projector",
   "metadata": {},
   "source": [
    "## Управляющие конструкции. Часть 1.\n",
    "<a id='conditions1'></a>"
   ]
  },
  {
   "cell_type": "markdown",
   "id": "minus-fountain",
   "metadata": {},
   "source": [
    "## Управляющие конструкции. Часть 2.\n",
    "<a id='conditions2'></a>"
   ]
  },
  {
   "cell_type": "markdown",
   "id": "packed-disclaimer",
   "metadata": {},
   "source": [
    "### Задача №1\n",
    "<a id='conditions2_task1'></a>"
   ]
  },
  {
   "cell_type": "code",
   "execution_count": 19,
   "id": "southwest-atlanta",
   "metadata": {},
   "outputs": [
    {
     "name": "stdout",
     "output_type": "stream",
     "text": [
      "{98, 35, 15, 213, 54, 119}\n"
     ]
    }
   ],
   "source": [
    "ids = {'user1': [213, 213, 213, 15, 213], \n",
    "       'user2': [54, 54, 119, 119, 119], \n",
    "       'user3': [213, 98, 98, 35]}\n",
    "\n",
    "uniq = []\n",
    "\n",
    "for user in ids:\n",
    "    for item in range(len(ids[user])):\n",
    "        uniq.append(ids[user][item])\n",
    "#множества содержат только уникальные элементы, поеэтому перевод из list в set удаляет повторяющиеся элементы.      \n",
    "print(set(uniq))\n"
   ]
  },
  {
   "cell_type": "markdown",
   "id": "armed-indicator",
   "metadata": {},
   "source": [
    "### Задача №2\n",
    "<a id='conditions2_task2'></a>"
   ]
  },
  {
   "cell_type": "code",
   "execution_count": 34,
   "id": "compatible-holly",
   "metadata": {},
   "outputs": [
    {
     "name": "stdout",
     "output_type": "stream",
     "text": [
      "Поисковых запросов, содержащих 2 слов(а): 42.86%\n",
      "Поисковых запросов, содержащих 3 слов(а): 57.14%\n"
     ]
    }
   ],
   "source": [
    "queries = [\n",
    "    'смотреть сериалы онлайн',\n",
    "    'новости спорта',\n",
    "    'афиша кино',\n",
    "    'курс доллара',\n",
    "    'сериалы этим летом',\n",
    "    'курс по питону',\n",
    "    'сериалы про спорт',\n",
    "]\n",
    "stat = dict()\n",
    "sorted_stat = dict()\n",
    "\n",
    "for i, item in enumerate(queries):\n",
    "    length_key = len(item.split(sep=' '))\n",
    "    if length_key in stat:\n",
    "        stat[length_key] = stat[length_key] + 1\n",
    "    else:\n",
    "        stat[length_key] = 1\n",
    "    \n",
    "sorted_stat = dict(sorted(stat.items()))\n",
    "\n",
    "for key in sorted_stat.keys():\n",
    "    print('Поисковых запросов, содержащих %i слов(а): %.2f%%' % (key, 100*sorted_stat[key]/(i + 1)))\n",
    "    #print('Поисковых запросов, содержащих', key, 'слов(а):', round(100*sorted_stat[key]/(i + 1)) , '%')"
   ]
  },
  {
   "cell_type": "markdown",
   "id": "nearby-potato",
   "metadata": {},
   "source": [
    "### Задача №3\n",
    "<a id='conditions2_task3'></a>"
   ]
  },
  {
   "cell_type": "code",
   "execution_count": 23,
   "id": "thermal-recipient",
   "metadata": {},
   "outputs": [
    {
     "name": "stdout",
     "output_type": "stream",
     "text": [
      "{'vk': {'revenue': 103, 'cost': 98, 'ROI': 5.1}, 'yandex': {'revenue': 179, 'cost': 153, 'ROI': 16.99}, 'facebook': {'revenue': 103, 'cost': 110, 'ROI': -6.36}, 'adwords': {'revenue': 35, 'cost': 34, 'ROI': 2.94}, 'twitter': {'revenue': 11, 'cost': 24, 'ROI': -54.17}}\n"
     ]
    }
   ],
   "source": [
    "results = {\n",
    "    'vk': {'revenue': 103, 'cost': 98},\n",
    "    'yandex': {'revenue': 179, 'cost': 153},\n",
    "    'facebook': {'revenue': 103, 'cost': 110},\n",
    "    'adwords': {'revenue': 35, 'cost': 34},\n",
    "    'twitter': {'revenue': 11, 'cost': 24},\n",
    "}\n",
    "\n",
    "for key in results.keys():\n",
    "    results[key]['ROI'] = round(100*(results[key]['revenue']/results[key]['cost'] - 1), 2)\n",
    "print(results)"
   ]
  },
  {
   "cell_type": "markdown",
   "id": "sonic-arbor",
   "metadata": {},
   "source": [
    "### Задача №4\n",
    "<a id='conditions2_task4'></a>"
   ]
  },
  {
   "cell_type": "code",
   "execution_count": 41,
   "id": "universal-crystal",
   "metadata": {},
   "outputs": [
    {
     "name": "stdout",
     "output_type": "stream",
     "text": [
      "Максимальный объем продаж на рекламном канале: vk\n"
     ]
    }
   ],
   "source": [
    "stats = {'facebook': 55, 'yandex': 115, 'vk': 120, 'google': 99, 'email': 42, 'ok': 98}\n",
    "stats_value = ()\n",
    "\n",
    "stats_value = stats.values()\n",
    "max_stats_value = max(stats_value)\n",
    "for key in stats:\n",
    "    if stats[key] == max_stats_value:\n",
    "        print('Максимальный объем продаж на рекламном канале:', key)\n",
    "    else:\n",
    "        pass"
   ]
  },
  {
   "cell_type": "markdown",
   "id": "amended-jacob",
   "metadata": {},
   "source": [
    "### Задача №5\n",
    "<a id='conditions2_task5'></a>"
   ]
  },
  {
   "cell_type": "code",
   "execution_count": 83,
   "id": "based-uzbekistan",
   "metadata": {},
   "outputs": [
    {
     "name": "stdout",
     "output_type": "stream",
     "text": [
      "0 ['2018-01-01', 'yandex', 'cpc', 100, [9, 'uy']]\n",
      "1 ['2018-01-01', 'yandex', 'cpc', [100, [9, 'uy']]]\n",
      "2 ['2018-01-01', 'yandex', ['cpc', [100, [9, 'uy']]]]\n",
      "3 ['2018-01-01', ['yandex', ['cpc', [100, [9, 'uy']]]]]\n"
     ]
    },
    {
     "ename": "IndexError",
     "evalue": "list index out of range",
     "output_type": "error",
     "traceback": [
      "\u001b[0;31m---------------------------------------------------------------------------\u001b[0m",
      "\u001b[0;31mIndexError\u001b[0m                                Traceback (most recent call last)",
      "\u001b[0;32m<ipython-input-83-63b88d752dd5>\u001b[0m in \u001b[0;36m<module>\u001b[0;34m\u001b[0m\n\u001b[1;32m     19\u001b[0m         \u001b[0;32mbreak\u001b[0m\u001b[0;34m\u001b[0m\u001b[0;34m\u001b[0m\u001b[0m\n\u001b[1;32m     20\u001b[0m     \u001b[0;32melse\u001b[0m\u001b[0;34m:\u001b[0m\u001b[0;34m\u001b[0m\u001b[0;34m\u001b[0m\u001b[0m\n\u001b[0;32m---> 21\u001b[0;31m         \u001b[0mmy_dict\u001b[0m \u001b[0;34m=\u001b[0m \u001b[0;34m{\u001b[0m\u001b[0mmy_list\u001b[0m\u001b[0;34m[\u001b[0m\u001b[0mlenght\u001b[0m\u001b[0;34m-\u001b[0m\u001b[0;36m2\u001b[0m\u001b[0;34m-\u001b[0m\u001b[0mi\u001b[0m\u001b[0;34m]\u001b[0m\u001b[0;34m:\u001b[0m \u001b[0mmy_list\u001b[0m\u001b[0;34m[\u001b[0m\u001b[0mlenght\u001b[0m\u001b[0;34m-\u001b[0m\u001b[0;36m1\u001b[0m\u001b[0;34m-\u001b[0m\u001b[0mi\u001b[0m\u001b[0;34m]\u001b[0m\u001b[0;34m}\u001b[0m\u001b[0;34m\u001b[0m\u001b[0;34m\u001b[0m\u001b[0m\n\u001b[0m\u001b[1;32m     22\u001b[0m     \u001b[0mprint\u001b[0m\u001b[0;34m(\u001b[0m\u001b[0mmy_dict\u001b[0m\u001b[0;34m)\u001b[0m\u001b[0;34m\u001b[0m\u001b[0;34m\u001b[0m\u001b[0m\n\u001b[1;32m     23\u001b[0m \u001b[0;31m#my_dict = {my_list[0]: {my_list[1]: {my_list[2]: my_list[3]}}}\u001b[0m\u001b[0;34m\u001b[0m\u001b[0;34m\u001b[0m\u001b[0;34m\u001b[0m\u001b[0m\n",
      "\u001b[0;31mIndexError\u001b[0m: list index out of range"
     ]
    }
   ],
   "source": [
    "my_list = ['2018-01-01', 'yandex', 'cpc', 100, 9, 'uy']\n",
    "tmp_list = []\n",
    "my_dict = {}\n",
    "tmp_dick = {}\n",
    "lenght = len(my_list)\n",
    "\n",
    "for i in range(lenght):\n",
    "    if lenght-2-i == 0:\n",
    "        break\n",
    "    else:\n",
    "        tmp_list = [my_list[lenght-2-i], my_list[lenght-1-i]]\n",
    "        my_list = my_list[:lenght-2-i]\n",
    "        my_list.append(tmp_list)\n",
    "    print(i, my_list)\n",
    "\n",
    "\n",
    "for i in range(lenght):\n",
    "    if lenght-2-i == 0:\n",
    "        break\n",
    "    else:\n",
    "        my_dict = {my_list[lenght-2-i]: my_list[lenght-1-i]}\n",
    "    print(my_dict)    \n",
    "#my_dict = {my_list[0]: {my_list[1]: {my_list[2]: my_list[3]}}}"
   ]
  }
 ],
 "metadata": {
  "kernelspec": {
   "display_name": "Python 3",
   "language": "python",
   "name": "python3"
  },
  "language_info": {
   "codemirror_mode": {
    "name": "ipython",
    "version": 3
   },
   "file_extension": ".py",
   "mimetype": "text/x-python",
   "name": "python",
   "nbconvert_exporter": "python",
   "pygments_lexer": "ipython3",
   "version": "3.9.4"
  }
 },
 "nbformat": 4,
 "nbformat_minor": 5
}

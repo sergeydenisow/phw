{
 "cells": [
  {
   "cell_type": "markdown",
   "id": "reasonable-stranger",
   "metadata": {},
   "source": [
    "## Управляющие конструкции. Часть 2.\n",
    "<a id='conditions2'></a>"
   ]
  },
  {
   "cell_type": "markdown",
   "id": "passive-neighborhood",
   "metadata": {},
   "source": [
    "# Оглавление\n",
    "\n",
    "1. [Задача №1](#conditions2_task1)  \n",
    "2. [Задача №2](#conditions2_task2)\n",
    "3. [Задача №3](#conditions2_task3)\n",
    "4. [Задача №4](#conditions2_task4)  "
   ]
  },
  {
   "cell_type": "markdown",
   "id": "administrative-acrobat",
   "metadata": {},
   "source": [
    "### Задача №1\n",
    "<a id='conditions2_task1'></a>"
   ]
  },
  {
   "cell_type": "code",
   "execution_count": 1,
   "id": "delayed-drove",
   "metadata": {},
   "outputs": [
    {
     "name": "stdout",
     "output_type": "stream",
     "text": [
      "{98, 35, 15, 213, 54, 119}\n"
     ]
    }
   ],
   "source": [
    "ids = {'user1': [213, 213, 213, 15, 213], \n",
    "       'user2': [54, 54, 119, 119, 119], \n",
    "       'user3': [213, 98, 98, 35]}\n",
    "\n",
    "uniq = []\n",
    "\n",
    "for user in ids:\n",
    "    for item in range(len(ids[user])):\n",
    "        uniq.append(ids[user][item])\n",
    "#множества содержат только уникальные элементы, поеэтому перевод из list в set удаляет повторяющиеся элементы.      \n",
    "print(set(uniq))"
   ]
  },
  {
   "cell_type": "markdown",
   "id": "violent-indicator",
   "metadata": {},
   "source": [
    "### Задача №2\n",
    "<a id='base_task2'></a>"
   ]
  },
  {
   "cell_type": "code",
   "execution_count": 2,
   "id": "cubic-modification",
   "metadata": {},
   "outputs": [
    {
     "name": "stdout",
     "output_type": "stream",
     "text": [
      "Поисковых запросов, содержащих 2 слов(а): 42.86%\n",
      "Поисковых запросов, содержащих 3 слов(а): 57.14%\n"
     ]
    }
   ],
   "source": [
    "queries = [\n",
    "    'смотреть сериалы онлайн',\n",
    "    'новости спорта',\n",
    "    'афиша кино',\n",
    "    'курс доллара',\n",
    "    'сериалы этим летом',\n",
    "    'курс по питону',\n",
    "    'сериалы про спорт',\n",
    "]\n",
    "stat = dict()\n",
    "sorted_stat = dict()\n",
    "\n",
    "for i, item in enumerate(queries):\n",
    "    length_key = len(item.split(sep=' '))\n",
    "    if length_key in stat:\n",
    "        stat[length_key] = stat[length_key] + 1\n",
    "    else:\n",
    "        stat[length_key] = 1\n",
    "    \n",
    "sorted_stat = dict(sorted(stat.items()))\n",
    "\n",
    "for key in sorted_stat.keys():\n",
    "    print('Поисковых запросов, содержащих %i слов(а): %.2f%%' % (key, 100*sorted_stat[key]/(i + 1)))\n",
    "    #print('Поисковых запросов, содержащих', key, 'слов(а):', round(100*sorted_stat[key]/(i + 1)) , '%')"
   ]
  },
  {
   "cell_type": "markdown",
   "id": "political-inspection",
   "metadata": {},
   "source": [
    "### Задача №3\n",
    "<a id='conditions2_task3'></a>"
   ]
  },
  {
   "cell_type": "code",
   "execution_count": 3,
   "id": "choice-gateway",
   "metadata": {},
   "outputs": [
    {
     "name": "stdout",
     "output_type": "stream",
     "text": [
      "{'vk': {'revenue': 103, 'cost': 98, 'ROI': 5.1}, 'yandex': {'revenue': 179, 'cost': 153, 'ROI': 16.99}, 'facebook': {'revenue': 103, 'cost': 110, 'ROI': -6.36}, 'adwords': {'revenue': 35, 'cost': 34, 'ROI': 2.94}, 'twitter': {'revenue': 11, 'cost': 24, 'ROI': -54.17}}\n"
     ]
    }
   ],
   "source": [
    "results = {\n",
    "    'vk': {'revenue': 103, 'cost': 98},\n",
    "    'yandex': {'revenue': 179, 'cost': 153},\n",
    "    'facebook': {'revenue': 103, 'cost': 110},\n",
    "    'adwords': {'revenue': 35, 'cost': 34},\n",
    "    'twitter': {'revenue': 11, 'cost': 24},\n",
    "}\n",
    "\n",
    "for key in results.keys():\n",
    "    results[key]['ROI'] = round(100*(results[key]['revenue']/results[key]['cost'] - 1), 2)\n",
    "print(results)"
   ]
  },
  {
   "cell_type": "markdown",
   "id": "removable-enzyme",
   "metadata": {},
   "source": [
    "### Задача №4\n",
    "<a id='conditions2_task4'></a>"
   ]
  },
  {
   "cell_type": "code",
   "execution_count": 4,
   "id": "sapphire-warning",
   "metadata": {},
   "outputs": [
    {
     "name": "stdout",
     "output_type": "stream",
     "text": [
      "Максимальный объем продаж на рекламном канале: vk\n"
     ]
    }
   ],
   "source": [
    "stats = {'facebook': 55, 'yandex': 115, 'vk': 120, 'google': 99, 'email': 42, 'ok': 98}\n",
    "stats_value = ()\n",
    "\n",
    "stats_value = stats.values()\n",
    "max_stats_value = max(stats_value)\n",
    "for key in stats:\n",
    "    if stats[key] == max_stats_value:\n",
    "        print('Максимальный объем продаж на рекламном канале:', key)\n",
    "    else:\n",
    "        pass"
   ]
  }
 ],
 "metadata": {
  "kernelspec": {
   "display_name": "Python 3",
   "language": "python",
   "name": "python3"
  },
  "language_info": {
   "codemirror_mode": {
    "name": "ipython",
    "version": 3
   },
   "file_extension": ".py",
   "mimetype": "text/x-python",
   "name": "python",
   "nbconvert_exporter": "python",
   "pygments_lexer": "ipython3",
   "version": "3.9.4"
  }
 },
 "nbformat": 4,
 "nbformat_minor": 5
}

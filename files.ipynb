{
 "cells": [
  {
   "cell_type": "markdown",
   "id": "coated-elizabeth",
   "metadata": {},
   "source": [
    "# Работа с файлами."
   ]
  },
  {
   "cell_type": "markdown",
   "id": "attached-regular",
   "metadata": {},
   "source": [
    "## Задача №1"
   ]
  },
  {
   "cell_type": "code",
   "execution_count": 4,
   "id": "substantial-penny",
   "metadata": {},
   "outputs": [],
   "source": [
    "import json"
   ]
  },
  {
   "cell_type": "code",
   "execution_count": 19,
   "id": "lasting-lemon",
   "metadata": {},
   "outputs": [],
   "source": [
    "f = open('purchase_log.txt', 'r', encoding='utf-8')\n",
    "next(f)\n",
    "purchases = []\n",
    "\n",
    "for i, line in enumerate(f):\n",
    "    new_line = json.loads(line)\n",
    "    #purchases = {new_line['user_id'] : new_line['category']}\n",
    "    purchases.append([new_line['user_id'], new_line['category']])\n",
    "    \n",
    "f.close()\n",
    "dpurchases = dict(purchases) #Создаём словарь для задачи №2"
   ]
  },
  {
   "cell_type": "markdown",
   "id": "hispanic-simpson",
   "metadata": {},
   "source": [
    "## Задача №2"
   ]
  },
  {
   "cell_type": "code",
   "execution_count": 20,
   "id": "stuck-fifth",
   "metadata": {},
   "outputs": [
    {
     "name": "stdout",
     "output_type": "stream",
     "text": [
      "13798 was added to file. Done.\n"
     ]
    }
   ],
   "source": [
    "line_count = 0\n",
    "with open('visit_log.csv', 'r', encoding='utf-8') as fv, open('funnel.csv', 'w', encoding='utf-8') as ff:\n",
    "    for line in fv:\n",
    "        line = line.strip().split(',')\n",
    "        \n",
    "        if line[0] in dpurchases:\n",
    "            line_count += 1\n",
    "            ff.write(f\"{line[0]}, {line[1]}, {dpurchases[line[0]]}\\n\")\n",
    "        else:\n",
    "            pass\n",
    "\n",
    "print(f\"{line_count} was added to file. Done.\")"
   ]
  }
 ],
 "metadata": {
  "kernelspec": {
   "display_name": "Python 3",
   "language": "python",
   "name": "python3"
  },
  "language_info": {
   "codemirror_mode": {
    "name": "ipython",
    "version": 3
   },
   "file_extension": ".py",
   "mimetype": "text/x-python",
   "name": "python",
   "nbconvert_exporter": "python",
   "pygments_lexer": "ipython3",
   "version": "3.9.2"
  }
 },
 "nbformat": 4,
 "nbformat_minor": 5
}

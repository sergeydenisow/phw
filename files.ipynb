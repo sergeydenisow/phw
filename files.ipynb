{
 "cells": [
  {
   "cell_type": "markdown",
   "id": "coated-elizabeth",
   "metadata": {},
   "source": [
    "# Работа с файлами."
   ]
  },
  {
   "cell_type": "markdown",
   "id": "indonesian-citizenship",
   "metadata": {},
   "source": [
    "## Содержание\n",
    "1. Задача №1\n",
    "2. Задача №2"
   ]
  },
  {
   "cell_type": "markdown",
   "id": "attached-regular",
   "metadata": {},
   "source": [
    "## Задача №1"
   ]
  },
  {
   "cell_type": "code",
   "execution_count": 11,
   "id": "substantial-penny",
   "metadata": {},
   "outputs": [],
   "source": [
    "import json"
   ]
  },
  {
   "cell_type": "code",
   "execution_count": 23,
   "id": "lasting-lemon",
   "metadata": {},
   "outputs": [
    {
     "name": "stdout",
     "output_type": "stream",
     "text": [
      "{'user_id': 'category'}\n",
      "{'1840e0b9d4': 'Продукты'}\n",
      "{'4e4f90fcfb': 'Электроника'}\n",
      "{'afea8d72fc': 'Электроника'}\n",
      "{'373a6055fe': 'Бытовая техника'}\n",
      "{'9b2ab046f3': 'Электроника'}\n"
     ]
    }
   ],
   "source": [
    "#with open('purchase_log.txt', 'r') as f:\n",
    "#    print([next(f) for x in range(5)])\n",
    "\n",
    "f = open('purchase_log.txt', 'r', encoding='utf-8')\n",
    "for i, line in enumerate(f):\n",
    "    new_line = json.loads(line)\n",
    "    purchases = {new_line['user_id'] : new_line['category']}\n",
    "    print(purchases)\n",
    "    if i == 5:\n",
    "        break\n",
    "f.close()"
   ]
  },
  {
   "cell_type": "markdown",
   "id": "hispanic-simpson",
   "metadata": {},
   "source": [
    "## Задача №2"
   ]
  },
  {
   "cell_type": "code",
   "execution_count": 35,
   "id": "stuck-fifth",
   "metadata": {},
   "outputs": [
    {
     "name": "stdout",
     "output_type": "stream",
     "text": [
      "['1840e0b9d4', 'other'] Продукты\n"
     ]
    }
   ],
   "source": [
    "fp = open('purchase_log.txt', 'r', encoding='utf-8')\n",
    "#p = fp.readlines()\n",
    "\n",
    "p = [l.strip() for l in fp.readlines()]\n",
    "p_ = [json.loads(p[item]) for item in range(len(p))]\n",
    "\n",
    "#def find_purchase(num, list_):\n",
    "#    k = 0\n",
    "#    while k <= len(list_):\n",
    "#        k += 1\n",
    "#        if \n",
    "#        print(p_[k])\n",
    "\n",
    "fv = open('visit_log.csv', 'r', encoding='utf-8')\n",
    "for i, line in enumerate(fv):\n",
    "    if i > 1:\n",
    "        line = line.strip().split(',')\n",
    "        for k in range(len(p_)):\n",
    "            if line[0] in p_[k].values():\n",
    "                print(line, p_[k]['category'])\n",
    "            else:\n",
    "                pass\n",
    "        if i >= 50:\n",
    "            break\n",
    "    else:\n",
    "        pass\n"
   ]
  },
  {
   "cell_type": "code",
   "execution_count": 18,
   "id": "unable-remove",
   "metadata": {},
   "outputs": [
    {
     "data": {
      "text/plain": [
       "[]"
      ]
     },
     "execution_count": 18,
     "metadata": {},
     "output_type": "execute_result"
    }
   ],
   "source": []
  }
 ],
 "metadata": {
  "kernelspec": {
   "display_name": "Python 3",
   "language": "python",
   "name": "python3"
  },
  "language_info": {
   "codemirror_mode": {
    "name": "ipython",
    "version": 3
   },
   "file_extension": ".py",
   "mimetype": "text/x-python",
   "name": "python",
   "nbconvert_exporter": "python",
   "pygments_lexer": "ipython3",
   "version": "3.9.2"
  }
 },
 "nbformat": 4,
 "nbformat_minor": 5
}

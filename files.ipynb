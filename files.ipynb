{
 "cells": [
  {
   "cell_type": "markdown",
   "id": "coated-elizabeth",
   "metadata": {},
   "source": [
    "# Работа с файлами."
   ]
  },
  {
   "cell_type": "code",
   "execution_count": 12,
   "id": "substantial-penny",
   "metadata": {},
   "outputs": [],
   "source": [
    "import json"
   ]
  },
  {
   "cell_type": "code",
   "execution_count": 23,
   "id": "lasting-lemon",
   "metadata": {},
   "outputs": [
    {
     "name": "stdout",
     "output_type": "stream",
     "text": [
      "{'user_id': 'category'}\n",
      "{'1840e0b9d4': 'Продукты'}\n",
      "{'4e4f90fcfb': 'Электроника'}\n",
      "{'afea8d72fc': 'Электроника'}\n",
      "{'373a6055fe': 'Бытовая техника'}\n",
      "{'9b2ab046f3': 'Электроника'}\n"
     ]
    }
   ],
   "source": [
    "#with open('purchase_log.txt', 'r') as f:\n",
    "#    print([next(f) for x in range(5)])\n",
    "\n",
    "f = open('purchase_log.txt', 'r', encoding='utf-8')\n",
    "for i, line in enumerate(f):\n",
    "    new_line = json.loads(line)\n",
    "    purchases = {new_line['user_id'] : new_line['category']}\n",
    "    print(purchases)\n",
    "    if i == 5:\n",
    "        break"
   ]
  },
  {
   "cell_type": "code",
   "execution_count": null,
   "id": "broke-atlanta",
   "metadata": {},
   "outputs": [],
   "source": []
  }
 ],
 "metadata": {
  "kernelspec": {
   "display_name": "Python 3",
   "language": "python",
   "name": "python3"
  },
  "language_info": {
   "codemirror_mode": {
    "name": "ipython",
    "version": 3
   },
   "file_extension": ".py",
   "mimetype": "text/x-python",
   "name": "python",
   "nbconvert_exporter": "python",
   "pygments_lexer": "ipython3",
   "version": "3.9.4"
  }
 },
 "nbformat": 4,
 "nbformat_minor": 5
}

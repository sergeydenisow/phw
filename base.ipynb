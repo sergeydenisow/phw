{
 "cells": [
  {
   "cell_type": "markdown",
   "id": "owned-livestock",
   "metadata": {},
   "source": [
    "#Домашнее задание по теме «Основы Python»"
   ]
  },
  {
   "cell_type": "markdown",
   "id": "gross-funds",
   "metadata": {},
   "source": [
    "##Задача №1"
   ]
  },
  {
   "cell_type": "code",
   "execution_count": 10,
   "id": "latest-region",
   "metadata": {},
   "outputs": [
    {
     "name": "stdout",
     "output_type": "stream",
     "text": [
      "Введите Фразу №1:\n",
      "Введите Фразу №2:\n",
      "Фраза 1 и Фраза 2 равны по длинне\n"
     ]
    }
   ],
   "source": [
    "#phrase_1 = 'Насколько проще было бы писать программы, если бы не заказчики'\n",
    "#phrase_2 = '640Кб должно хватить для любых задач. Билл Гейтс (по легенде)'\n",
    "\n",
    "phrase_1 = input(\"Введите Фразу №1:\")\n",
    "phrase_2 = input(\"Введите Фразу №2:\")\n",
    "\n",
    "if len(phrase_1) > len(phrase_2):\n",
    "    print(\"Фраза 1 длиннее Фразы 2\")\n",
    "elif len(phrase_1) == len(phrase_2):\n",
    "    print(\"Фраза 1 и Фраза 2 равны по длинне\")\n",
    "else: print(\"Фраза 2 длиннее Фразы 1\")"
   ]
  },
  {
   "cell_type": "markdown",
   "id": "involved-country",
   "metadata": {},
   "source": [
    "##Задача №2"
   ]
  },
  {
   "cell_type": "code",
   "execution_count": 32,
   "id": "written-donor",
   "metadata": {},
   "outputs": [
    {
     "name": "stdout",
     "output_type": "stream",
     "text": [
      "Введите год:1996\n",
      "Високосный год.\n"
     ]
    }
   ],
   "source": [
    "year = int(input(\"Введите год:\"))\n",
    "\n",
    "if (year % 4) == 0:\n",
    "    print(\"Високосный год.\")\n",
    "else: print(\"Не високосный год\")"
   ]
  },
  {
   "cell_type": "markdown",
   "id": "social-coordinator",
   "metadata": {},
   "source": [
    "##Задача №3"
   ]
  },
  {
   "cell_type": "code",
   "execution_count": 38,
   "id": "boxed-fellowship",
   "metadata": {},
   "outputs": [
    {
     "name": "stdout",
     "output_type": "stream",
     "text": [
      "Введите свой день и месяц рождения.\n",
      "день: 25\n",
      "месяц: Июля\n"
     ]
    },
    {
     "ename": "SyntaxError",
     "evalue": "'break' outside loop (<ipython-input-38-5c8f643320a0>, line 16)",
     "output_type": "error",
     "traceback": [
      "\u001b[0;36m  File \u001b[0;32m\"<ipython-input-38-5c8f643320a0>\"\u001b[0;36m, line \u001b[0;32m16\u001b[0m\n\u001b[0;31m    break\u001b[0m\n\u001b[0m    ^\u001b[0m\n\u001b[0;31mSyntaxError\u001b[0m\u001b[0;31m:\u001b[0m 'break' outside loop\n"
     ]
    }
   ],
   "source": [
    "print(\"Введите свой день и месяц рождения.\")\n",
    "day_of_birth = int(input(\"день: \"))\n",
    "month_of_birth = input(\"месяц: \")\n",
    "\n",
    "#if month_of_birth == \"Январь\":\n",
    "#    if day_of_birth <= 19:\n",
    "#        print(\"Козерог\")\n",
    "#    else:\n",
    "#        print(\"Водолей\")\n",
    "#        break\n",
    "    \n",
    "if month_of_birth == \"Январь\" and day_of_birth <= 18:\n",
    "    print(\"Водолей\")\n",
    "else:\n",
    "    print(\"Рыбы\")\n",
    "    break\n",
    "    \n",
    "if month_of_birth == \"Февраль\" and day_of_birth <= 18:\n",
    "    print(\"Водолей\")\n",
    "else: \n",
    "    print(\"Рыбы\")\n",
    "    break\n",
    "    \n",
    "if month_of_birth == \"Март\" and day_of_birth <= 20:\n",
    "    print(\"Рыбы\")\n",
    "else: \n",
    "    print(\"Овен\")\n",
    "    break\n",
    "    \n",
    "if month_of_birth == \"Апрель\" and day_of_birth <= 19:\n",
    "    print(\"Овен\")\n",
    "else:\n",
    "    print(\"Телец\")\n",
    "    break\n",
    "    \n",
    "if month_of_birth == \"Май\" and day_of_birth <= 20:\n",
    "    print(\"Телец\")\n",
    "else:\n",
    "    print(\"Близнецы\")\n",
    "    break\n",
    "    \n",
    "if month_of_birth == \"Июнь\" and day_of_birth <= 20:\n",
    "    print(\"Близнецы\")\n",
    "else:\n",
    "    print(\"Рак\")\n",
    "    break\n",
    "    \n",
    "if month_of_birth == \"Июль\" and day_of_birth <= 22:\n",
    "    print(\"Рак\")\n",
    "else:\n",
    "    print(\"Лев\")\n",
    "    break\n",
    "    \n",
    "if month_of_birth == \"Август\" and day_of_birth <= 22:\n",
    "    print(\"Лев\")\n",
    "else:\n",
    "    print(\"Дева\")\n",
    "    break\n",
    "    \n",
    "if month_of_birth == \"Сентябрь\" and day_of_birth <= 22:\n",
    "    print(\"Дева\")\n",
    "else:\n",
    "    print(\"Весы\")\n",
    "    break\n",
    "    \n",
    "if month_of_birth == \"Октябрь\" and day_of_birth <= 22:\n",
    "    print(\"Весы\")\n",
    "else:\n",
    "    print(\"Скорпион\")\n",
    "    break\n",
    "    \n",
    "if month_of_birth == \"Ноябрь\" and day_of_birth <= 21:\n",
    "    print(\"Скорпион\")\n",
    "else:\n",
    "    print(\"Стрелец\")\n",
    "    break\n",
    "    \n",
    "if month_of_birth == \"Декабрь\" and day_of_birth <= 21:\n",
    "    print(\"Стрелец\")\n",
    "else:\n",
    "    print(\"Козерог\")\n",
    "    break\n"
   ]
  }
 ],
 "metadata": {
  "kernelspec": {
   "display_name": "Python 3",
   "language": "python",
   "name": "python3"
  },
  "language_info": {
   "codemirror_mode": {
    "name": "ipython",
    "version": 3
   },
   "file_extension": ".py",
   "mimetype": "text/x-python",
   "name": "python",
   "nbconvert_exporter": "python",
   "pygments_lexer": "ipython3",
   "version": "3.9.4"
  }
 },
 "nbformat": 4,
 "nbformat_minor": 5
}

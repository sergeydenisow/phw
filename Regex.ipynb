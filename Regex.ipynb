{
 "cells": [
  {
   "cell_type": "markdown",
   "id": "approved-spice",
   "metadata": {},
   "source": [
    "# Регулярные выражения."
   ]
  },
  {
   "cell_type": "markdown",
   "id": "latest-detroit",
   "metadata": {},
   "source": [
    "## Задача №1."
   ]
  },
  {
   "cell_type": "code",
   "execution_count": 2,
   "id": "presidential-think",
   "metadata": {},
   "outputs": [],
   "source": [
    "import re"
   ]
  },
  {
   "cell_type": "code",
   "execution_count": 158,
   "id": "floral-apollo",
   "metadata": {},
   "outputs": [],
   "source": [
    "car_id = 'А222ВС96'"
   ]
  },
  {
   "cell_type": "code",
   "execution_count": 40,
   "id": "radio-pencil",
   "metadata": {},
   "outputs": [],
   "source": [
    "# Шаблон для разбиения номера автомашины. Нужны только цифры.\n",
    "split_pattern = '\\d{2,3}'"
   ]
  },
  {
   "cell_type": "code",
   "execution_count": 149,
   "id": "recreational-hearing",
   "metadata": {},
   "outputs": [],
   "source": [
    "# Шаблон для валидации номера.\n",
    "valid_pattern = '[АВЕКМНОРСТУХ]{1}\\d{3}[АВЕКМНОРСТУХ]{2}\\d{2,3}'"
   ]
  },
  {
   "cell_type": "code",
   "execution_count": 159,
   "id": "further-timing",
   "metadata": {},
   "outputs": [
    {
     "name": "stdout",
     "output_type": "stream",
     "text": [
      "Номер валидирован.\n",
      "Госномер: 222, регион: 96\n"
     ]
    }
   ],
   "source": [
    "if re.match(valid_pattern, car_id):\n",
    "    print('Номер валидирован.')\n",
    "    print(f'Госномер: {re.findall(split_pattern, car_id)[0]}, регион: {re.findall(split_pattern, car_id)[1]}')\n",
    "else:\n",
    "    print('Номер не валидирован.')"
   ]
  },
  {
   "cell_type": "markdown",
   "id": "documented-definition",
   "metadata": {},
   "source": [
    "## Задача №2."
   ]
  },
  {
   "cell_type": "code",
   "execution_count": 51,
   "id": "departmental-allah",
   "metadata": {},
   "outputs": [],
   "source": [
    "some_string = 'Напишите функцию функцию, которая будет будет будет будет удалять все все все все последовательные повторы слов из из из из заданной строки строки при помощи регулярных выражений'"
   ]
  },
  {
   "cell_type": "code",
   "execution_count": 71,
   "id": "faced-double",
   "metadata": {},
   "outputs": [
    {
     "data": {
      "text/plain": [
       "'Напишите функцию, которая будет удалять все последовательные повторы слов из заданной строки при помощи регулярных выражений'"
      ]
     },
     "execution_count": 71,
     "metadata": {},
     "output_type": "execute_result"
    }
   ],
   "source": [
    "re.sub(r'([а-я]+)(\\s+\\1)+', r'\\1', some_string)"
   ]
  },
  {
   "cell_type": "markdown",
   "id": "lyric-distance",
   "metadata": {},
   "source": [
    "## Задача №3."
   ]
  },
  {
   "cell_type": "code",
   "execution_count": 178,
   "id": "dangerous-slovakia",
   "metadata": {},
   "outputs": [],
   "source": [
    "# some_words = 'Информационные технологии'\n",
    "some_words = 'Near Field Communication'"
   ]
  },
  {
   "cell_type": "code",
   "execution_count": 182,
   "id": "featured-mediterranean",
   "metadata": {},
   "outputs": [],
   "source": [
    "def acronym(str_):\n",
    "    \"\"\"\n",
    "    Функция возвращает абревиатуру любой переданной строки (str_).\n",
    "    Используеться регулярное выражение которое возвращает\n",
    "    первые буквы каждого слова.\n",
    "    Из полученных букв создаётся новая строка, которая переводиться в верхний регистр\n",
    "    функцией upper().\n",
    "    \"\"\"\n",
    "    acronym_ = re.findall(r'^.|\\D(?<=\\s\\D)', str_)\n",
    "    tmp_str = ''\n",
    "    for i in range(len(acronym_)):\n",
    "        tmp_str = tmp_str + acronym_[i]\n",
    "    return tmp_str.upper()"
   ]
  },
  {
   "cell_type": "code",
   "execution_count": 183,
   "id": "major-density",
   "metadata": {},
   "outputs": [
    {
     "name": "stdout",
     "output_type": "stream",
     "text": [
      "Результат: NFC\n"
     ]
    }
   ],
   "source": [
    "print('Результат:', acronym(some_words))"
   ]
  },
  {
   "cell_type": "markdown",
   "id": "bizarre-somerset",
   "metadata": {},
   "source": [
    "## Задача №4."
   ]
  },
  {
   "cell_type": "code",
   "execution_count": 188,
   "id": "imposed-commonwealth",
   "metadata": {},
   "outputs": [],
   "source": [
    "emails = ['test@gmail.com', 'xyz@test.in', 'test@ya.ru', 'xyz@mail.ru', 'xyz@ya.ru', 'xyz@gmail.com']"
   ]
  },
  {
   "cell_type": "code",
   "execution_count": 201,
   "id": "relevant-malawi",
   "metadata": {},
   "outputs": [],
   "source": [
    "def email_distribution(list_):\n",
    "    \"\"\"\n",
    "\n",
    "    Функция вычисляет распределение доменов в списке (list_) email адресов.\n",
    "    Домены выделяются из переданых адресов с помощью регулярного выражения: (\\w+)(\\.\\w+(\\.\\w+)?[^.\\W])\n",
    "    Возвращается словарь вида: {'ya.ru' : 2}\n",
    "    \n",
    "    \"\"\"\n",
    "    dict_ = {}\n",
    "    pattern = '(\\w+)(\\.\\w+(\\.\\w+)?[^.\\W])'\n",
    "    for i in range(len(list_)):\n",
    "        domain = re.search(pattern, list_[i])[0]\n",
    "        if domain in dict_:\n",
    "            dict_[domain] += 1\n",
    "        else:\n",
    "            dict_[domain] = 1\n",
    "    return dict_"
   ]
  },
  {
   "cell_type": "code",
   "execution_count": 205,
   "id": "pointed-level",
   "metadata": {},
   "outputs": [
    {
     "name": "stdout",
     "output_type": "stream",
     "text": [
      "gmail.com: 2\n",
      "test.in: 1\n",
      "ya.ru: 2\n",
      "mail.ru: 1\n"
     ]
    }
   ],
   "source": [
    "distribution = email_distribution(emails)\n",
    "for item in distribution.keys():\n",
    "    print(f'{item}: {distribution[item]}')"
   ]
  }
 ],
 "metadata": {
  "kernelspec": {
   "display_name": "Python 3",
   "language": "python",
   "name": "python3"
  },
  "language_info": {
   "codemirror_mode": {
    "name": "ipython",
    "version": 3
   },
   "file_extension": ".py",
   "mimetype": "text/x-python",
   "name": "python",
   "nbconvert_exporter": "python",
   "pygments_lexer": "ipython3",
   "version": "3.9.4"
  }
 },
 "nbformat": 4,
 "nbformat_minor": 5
}

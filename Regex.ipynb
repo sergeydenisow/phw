{
 "cells": [
  {
   "cell_type": "markdown",
   "id": "approved-spice",
   "metadata": {},
   "source": [
    "# Регулярные выражения."
   ]
  },
  {
   "cell_type": "markdown",
   "id": "latest-detroit",
   "metadata": {},
   "source": [
    "## Задача №1."
   ]
  },
  {
   "cell_type": "code",
   "execution_count": 4,
   "id": "presidential-think",
   "metadata": {},
   "outputs": [],
   "source": [
    "import re"
   ]
  },
  {
   "cell_type": "code",
   "execution_count": 110,
   "id": "floral-apollo",
   "metadata": {},
   "outputs": [],
   "source": [
    "car_id = 'А222ВС96'"
   ]
  },
  {
   "cell_type": "code",
   "execution_count": 106,
   "id": "radio-pencil",
   "metadata": {},
   "outputs": [],
   "source": [
    "# Шаблон для разбиения номера автомашины. Нужны только цифры.\n",
    "split_pattern = '\\d{2,3}'"
   ]
  },
  {
   "cell_type": "code",
   "execution_count": 114,
   "id": "opening-savage",
   "metadata": {},
   "outputs": [
    {
     "data": {
      "text/plain": [
       "['222', '96']"
      ]
     },
     "execution_count": 114,
     "metadata": {},
     "output_type": "execute_result"
    }
   ],
   "source": [
    "re.findall(split_pattern, car_id)"
   ]
  },
  {
   "cell_type": "code",
   "execution_count": 131,
   "id": "recreational-hearing",
   "metadata": {},
   "outputs": [],
   "source": [
    "# Шаблон для валидации номера.\n",
    "# valid_pattern = '\\D[АВЕКМНОРСТУХ]\\d{3}\\D[АВЕКМНОРСТУХ]\\d{2,3}'\n",
    "valid_pattern = '\\D{1}\\d{3}\\D{2}\\d{2,3}'"
   ]
  },
  {
   "cell_type": "code",
   "execution_count": 132,
   "id": "further-timing",
   "metadata": {},
   "outputs": [
    {
     "data": {
      "text/plain": [
       "<re.Match object; span=(0, 8), match='А222ВС96'>"
      ]
     },
     "execution_count": 132,
     "metadata": {},
     "output_type": "execute_result"
    }
   ],
   "source": [
    "re.search(valid_pattern, car_id)"
   ]
  }
 ],
 "metadata": {
  "kernelspec": {
   "display_name": "Python 3",
   "language": "python",
   "name": "python3"
  },
  "language_info": {
   "codemirror_mode": {
    "name": "ipython",
    "version": 3
   },
   "file_extension": ".py",
   "mimetype": "text/x-python",
   "name": "python",
   "nbconvert_exporter": "python",
   "pygments_lexer": "ipython3",
   "version": "3.9.4"
  }
 },
 "nbformat": 4,
 "nbformat_minor": 5
}

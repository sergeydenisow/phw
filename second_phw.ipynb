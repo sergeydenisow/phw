{
 "cells": [
  {
   "cell_type": "markdown",
   "id": "owned-livestock",
   "metadata": {},
   "source": [
    "# Домашнее задание по теме «Основы Python»"
   ]
  },
  {
   "cell_type": "markdown",
   "id": "gross-funds",
   "metadata": {},
   "source": [
    "## Задача №1"
   ]
  },
  {
   "cell_type": "code",
   "execution_count": 10,
   "id": "latest-region",
   "metadata": {},
   "outputs": [
    {
     "name": "stdout",
     "output_type": "stream",
     "text": [
      "Введите Фразу №1:\n",
      "Введите Фразу №2:\n",
      "Фраза 1 и Фраза 2 равны по длинне\n"
     ]
    }
   ],
   "source": [
    "#phrase_1 = 'Насколько проще было бы писать программы, если бы не заказчики'\n",
    "#phrase_2 = '640Кб должно хватить для любых задач. Билл Гейтс (по легенде)'\n",
    "\n",
    "phrase_1 = input(\"Введите Фразу №1:\")\n",
    "phrase_2 = input(\"Введите Фразу №2:\")\n",
    "\n",
    "if len(phrase_1) > len(phrase_2):\n",
    "    print(\"Фраза 1 длиннее Фразы 2\")\n",
    "elif len(phrase_1) == len(phrase_2):\n",
    "    print(\"Фраза 1 и Фраза 2 равны по длинне\")\n",
    "else: print(\"Фраза 2 длиннее Фразы 1\")"
   ]
  },
  {
   "cell_type": "markdown",
   "id": "involved-country",
   "metadata": {},
   "source": [
    "## Задача №2"
   ]
  },
  {
   "cell_type": "code",
   "execution_count": 32,
   "id": "written-donor",
   "metadata": {
    "scrolled": true
   },
   "outputs": [
    {
     "name": "stdout",
     "output_type": "stream",
     "text": [
      "Введите год:1996\n",
      "Високосный год.\n"
     ]
    }
   ],
   "source": [
    "year = int(input(\"Введите год:\"))\n",
    "\n",
    "if (year % 4) == 0:\n",
    "    print(\"Високосный год.\")\n",
    "else: print(\"Не високосный год\")"
   ]
  },
  {
   "cell_type": "markdown",
   "id": "social-coordinator",
   "metadata": {},
   "source": [
    "## Задача №3"
   ]
  },
  {
   "cell_type": "code",
   "execution_count": 37,
   "id": "boxed-fellowship",
   "metadata": {},
   "outputs": [
    {
     "name": "stdout",
     "output_type": "stream",
     "text": [
      "Введите свой день и месяц рождения.\n",
      "день: 14\n",
      "месяц: Август\n",
      "Ваш знак зодиака: \n",
      "Лев\n"
     ]
    }
   ],
   "source": [
    "print(\"Введите свой день и месяц рождения.\")\n",
    "day = int(input(\"день: \"))\n",
    "month = input(\"месяц: \")\n",
    "\n",
    "month_astro_sign = {\"Январь\": (19, \"Козерог\", \"Водолей\"),\n",
    "                   \"Февраль\": (18, \"Водолей\", \"Рыбы\"),\n",
    "                   \"Март\":    (20, \"Рыбы\", \"Овен\"),\n",
    "                   \"Апрель\":  (19, \"Овен\", \"Телец\"),\n",
    "                   \"Май\":     (20, \"Телец\", \"Близнецы\"),\n",
    "                   \"Июнь\":    (20, \"Близнецы\", \"Рак\"), \n",
    "                   \"Июль\":    (22, \"Рак\", \"Лев\"),\n",
    "                   \"Август\":  (22, \"Лев\", \"Дева\"),\n",
    "                   \"Сентабрь\":(22, \"Дева\", \"Весы\"),\n",
    "                   \"Октябрь\": (22, \"Весы\", \"Скорпион\"),\n",
    "                   \"Ноябрь\":  (21, \"Скорпион\", \"Сетрелец\"),\n",
    "                   \"Декабрь\": (21, \"Стрелец\", \"Козерог\")}\n",
    "\n",
    "print(\"Ваш знак зодиака: \")\n",
    "if day < month_astro_sign[month][0]:\n",
    "    print(month_astro_sign[month][1])\n",
    "else:\n",
    "    print(month_astro_sign[month][2])\n",
    "\n"
   ]
  },
  {
   "cell_type": "markdown",
   "id": "blessed-labor",
   "metadata": {},
   "source": [
    "## Задача №4"
   ]
  },
  {
   "cell_type": "code",
   "execution_count": 21,
   "id": "competitive-playlist",
   "metadata": {},
   "outputs": [
    {
     "name": "stdout",
     "output_type": "stream",
     "text": [
      "Стандартная коробка №3\n"
     ]
    }
   ],
   "source": [
    "width = 40\n",
    "length = 30\n",
    "height = 60\n",
    "\n",
    "# Упаковка для лыж - неч-то длинное и плоское. \n",
    "if length > 200 and width < 50 and height < 50:\n",
    "    print(\"Упаковка для лыж\")\n",
    "elif width < 15 and length < 15 and height < 15:\n",
    "    print(\"Коробка №1\")\n",
    "elif width < 50 and length < 50 and height < 50:\n",
    "    print(\"Коробка №2\")\n",
    "else:\n",
    "    print(\"Стандартная коробка №3\")\n"
   ]
  },
  {
   "cell_type": "markdown",
   "id": "understanding-cardiff",
   "metadata": {},
   "source": [
    "## Задача №5"
   ]
  },
  {
   "cell_type": "code",
   "execution_count": 36,
   "id": "romance-poker",
   "metadata": {},
   "outputs": [
    {
     "name": "stdout",
     "output_type": "stream",
     "text": [
      "Введите шестизначное число: \n",
      "345\n",
      "Это не шестизначное число!\n"
     ]
    }
   ],
   "source": [
    "print(\"Введите шестизначное число: \")\n",
    "number = input()\n",
    "\n",
    "if len(number) > 6 or len(number) < 5:\n",
    "    print(\"Это не шестизначное число!\")\n",
    "else:\n",
    "    s1 = int(number[0]) + int(number[1]) + int(number[2])\n",
    "    s2 = int(number[3]) + int(number[4]) + int(number[5])\n",
    "    if s1 == s2:\n",
    "        print(\"Это счастливое число!\")\n",
    "    else:\n",
    "        print(\"Это обычное число.\")\n"
   ]
  }
 ],
 "metadata": {
  "kernelspec": {
   "display_name": "Python 3",
   "language": "python",
   "name": "python3"
  },
  "language_info": {
   "codemirror_mode": {
    "name": "ipython",
    "version": 3
   },
   "file_extension": ".py",
   "mimetype": "text/x-python",
   "name": "python",
   "nbconvert_exporter": "python",
   "pygments_lexer": "ipython3",
   "version": "3.9.4"
  }
 },
 "nbformat": 4,
 "nbformat_minor": 5
}

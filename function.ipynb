{
 "cells": [
  {
   "cell_type": "markdown",
   "id": "endless-arabic",
   "metadata": {},
   "source": [
    "# Функции"
   ]
  },
  {
   "cell_type": "code",
   "execution_count": 1,
   "id": "prescribed-colony",
   "metadata": {},
   "outputs": [],
   "source": [
    "documents = [\n",
    " {'type': 'passport', 'number': '2207 876234', 'name': 'Василий Гупкин'},\n",
    " {'type': 'invoice', 'number': '11-2', 'name': 'Геннадий Покемонов'},\n",
    " {'type': 'insurance', 'number': '10006', 'name': 'Аристарх Павлов'}\n",
    "]"
   ]
  },
  {
   "cell_type": "code",
   "execution_count": 2,
   "id": "above-deposit",
   "metadata": {},
   "outputs": [],
   "source": [
    "directories = {\n",
    " '1': ['2207 876234', '11-2'],\n",
    " '2': ['10006'],\n",
    " '3': ['MM-2-31']\n",
    "}"
   ]
  },
  {
   "cell_type": "code",
   "execution_count": 86,
   "id": "extensive-cursor",
   "metadata": {},
   "outputs": [],
   "source": [
    "def shelf_list(dictionary):\n",
    "    \"\"\"\n",
    "    Функция возвращает список полок в словаре.\n",
    "    Функция имеет один обязательный параметр - словарь.\n",
    "    \"\"\"\n",
    "    print('Текущий перечень полок: ', end = '')\n",
    "    sl = list(dictionary.keys())\n",
    "    for i in range(len(sl)):\n",
    "        if i == len(sl) - 1:\n",
    "            print(sl[i] + '.', end = '')\n",
    "        else:\n",
    "            print(sl[i] + ', ', end = '')\n",
    "    print('\\n')\n",
    "    return"
   ]
  },
  {
   "cell_type": "code",
   "execution_count": 92,
   "id": "blessed-freedom",
   "metadata": {},
   "outputs": [],
   "source": [
    "def get_owener(number):\n",
    "    \"\"\"\n",
    "    Функция возвращает имя владельца документа по его номеру.\n",
    "    \"\"\"\n",
    "    true_flag = False\n",
    "\n",
    "    for i in range(len(documents)):\n",
    "        if documents[i]['number'] == str(number):\n",
    "            true_flag = True\n",
    "            index = i\n",
    "        else:\n",
    "            pass\n",
    "\n",
    "    if true_flag:\n",
    "        print(f'Владелец документа: ', documents[index]['name'])\n",
    "    else:\n",
    "        print('Документа с таким номером не существует.')\n",
    "    return"
   ]
  },
  {
   "cell_type": "code",
   "execution_count": 105,
   "id": "identified-stations",
   "metadata": {},
   "outputs": [],
   "source": [
    "def get_shelf(number):\n",
    "    \"\"\"\n",
    "    Функция возвращает номер полки где хранися документ по его номеру.\n",
    "    \"\"\"\n",
    "\n",
    "    shelf_number = None\n",
    "    for item in directories:\n",
    "        for i in range(len(directories[item])):\n",
    "            if directories[item][i] == str(number):\n",
    "                shelf_number = item\n",
    "            else:\n",
    "                continue\n",
    "    \n",
    "    return shelf_number"
   ]
  },
  {
   "cell_type": "code",
   "execution_count": 8,
   "id": "disciplinary-message",
   "metadata": {},
   "outputs": [],
   "source": [
    "def get_info():\n",
    "    \"\"\"\n",
    "    Функция возвращает информацию по всем документа.\n",
    "    Параметров не требует.\n",
    "    \n",
    "    \"\"\"\n",
    "    \n",
    "    for i in range(len(documents)):\n",
    "        shelf_number = get_shelf(documents[i]['number'])\n",
    "        doc_type = documents[i]['type']\n",
    "        owner = documents[i]['name']\n",
    "        doc_number = documents[i]['number']\n",
    "        print(f\"№: {doc_number}, тип: {doc_type}, владелец: {owner}, полка хранения: {shelf_number}\")\n",
    "    return"
   ]
  },
  {
   "cell_type": "code",
   "execution_count": 73,
   "id": "touched-anniversary",
   "metadata": {},
   "outputs": [],
   "source": [
    "def add_shelf(number, dictionary):\n",
    "    \"\"\"\n",
    "    Добавляем новую полку.\n",
    "    Функция требует два обязательных параметра: номер полки (number) и словарь (dictionary).\n",
    "    \n",
    "    \"\"\"\n",
    "\n",
    "    if number in dictionary:\n",
    "        return 'Полка уже существует.'\n",
    "    else:\n",
    "        dictionary[number] = []\n",
    "        return 'Полка добавлена.'"
   ]
  },
  {
   "cell_type": "code",
   "execution_count": 55,
   "id": "collective-entity",
   "metadata": {},
   "outputs": [],
   "source": [
    "def delete_shelf(shelf_number, dictionary):\n",
    "    \"\"\"\n",
    "    Удаляем полку, если она существует и пустая.\n",
    "    Функция требует два обязательных параметра: номер полки (shelf_number) и словарь (dictionary).\n",
    "    \"\"\"\n",
    "    \n",
    "    if shelf_number in dictionary and len(dictionary[shelf_number]) == 0:\n",
    "        dictionary.pop(shelf_number)\n",
    "        print('Полка удалена.')\n",
    "    else:\n",
    "        print('Удалить полку не возможно т.к. она не существует или не пустая.')\n",
    "    return"
   ]
  },
  {
   "cell_type": "code",
   "execution_count": 106,
   "id": "pleased-incident",
   "metadata": {},
   "outputs": [],
   "source": [
    "def main():\n",
    "    \"\"\"\n",
    "    Главная функция.\n",
    "    \"\"\"\n",
    "    print('Список команд:' + '\\n' +\n",
    "          'l - все доступные документы и полки на которых они лежат' + '\\n' +\n",
    "          'p - вывести имя владельца по номеру документа' + '\\n' +\n",
    "          's - узнать полку хранения документа по его номеру' + '\\n' +\n",
    "          'as - добавить новую полку' + '\\n' +\n",
    "          'ds - удалить пустую полку по её номеру')\n",
    "    \n",
    "    while True:\n",
    "        x = input('Введите команду: ')\n",
    "        if x == 'l':\n",
    "            get_info()\n",
    "        elif x == 'p':\n",
    "            dn = input('Введите номер документа:')\n",
    "            get_owener(dn)\n",
    "        elif x == 's':\n",
    "            sn = input('Введите номер документа:')\n",
    "            if get_shelf(sn) == None:\n",
    "                print('Документ не найден в базе.')\n",
    "            else:\n",
    "                print('Документ храниться на полке:', get_shelf(sn))\n",
    "        elif x == 'as':\n",
    "            snum = input('Введите номер полки:')\n",
    "            print(add_shelf(snum, directories))\n",
    "            shelf_list(directories)\n",
    "        elif x == 'ds':\n",
    "            sn = input('Удаление полки! Введите номер:')\n",
    "            delete_shelf(sn, directories)\n",
    "            shelf_list(directories)\n",
    "        elif x == 'q':\n",
    "            break\n",
    "    "
   ]
  },
  {
   "cell_type": "code",
   "execution_count": 108,
   "id": "optimum-render",
   "metadata": {},
   "outputs": [
    {
     "name": "stdout",
     "output_type": "stream",
     "text": [
      "Список команд:\n",
      "l - все доступные документы и полки на которых они лежат\n",
      "p - вывести имя владельца по номеру документа\n",
      "s - узнать полку хранения документа по его номеру\n",
      "as - добавить новую полку\n",
      "ds - удалить пустую полку по её номеру\n",
      "Введите команду: l\n",
      "№: 2207 876234, тип: passport, владелец: Василий Гупкин, полка хранения: 1\n",
      "№: 11-2, тип: invoice, владелец: Геннадий Покемонов, полка хранения: 1\n",
      "№: 10006, тип: insurance, владелец: Аристарх Павлов, полка хранения: 2\n",
      "Введите команду: p\n",
      "Введите номер документа:10006\n",
      "Владелец документа:  Аристарх Павлов\n",
      "Введите команду: p\n",
      "Введите номер документа:77\n",
      "Документа с таким номером не существует.\n",
      "Введите команду: s\n",
      "Введите номер документа:10006\n",
      "Документ храниться на полке: 2\n",
      "Введите команду: s\n",
      "Введите номер документа:23\n",
      "Документ не найден в базе.\n",
      "Введите команду: q\n"
     ]
    }
   ],
   "source": [
    "main()"
   ]
  }
 ],
 "metadata": {
  "kernelspec": {
   "display_name": "Python 3",
   "language": "python",
   "name": "python3"
  },
  "language_info": {
   "codemirror_mode": {
    "name": "ipython",
    "version": 3
   },
   "file_extension": ".py",
   "mimetype": "text/x-python",
   "name": "python",
   "nbconvert_exporter": "python",
   "pygments_lexer": "ipython3",
   "version": "3.9.4"
  }
 },
 "nbformat": 4,
 "nbformat_minor": 5
}

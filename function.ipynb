{
 "cells": [
  {
   "cell_type": "markdown",
   "id": "endless-arabic",
   "metadata": {},
   "source": [
    "# Функции"
   ]
  },
  {
   "cell_type": "code",
   "execution_count": 1,
   "id": "prescribed-colony",
   "metadata": {},
   "outputs": [],
   "source": [
    "documents = [\n",
    " {'type': 'passport', 'number': '2207 876234', 'name': 'Василий Гупкин'},\n",
    " {'type': 'invoice', 'number': '11-2', 'name': 'Геннадий Покемонов'},\n",
    " {'type': 'insurance', 'number': '10006', 'name': 'Аристарх Павлов'}\n",
    "]"
   ]
  },
  {
   "cell_type": "code",
   "execution_count": 2,
   "id": "above-deposit",
   "metadata": {},
   "outputs": [],
   "source": [
    "directories = {\n",
    " '1': ['2207 876234', '11-2'],\n",
    " '2': ['10006'],\n",
    " '3': ['MM-2-31']\n",
    "}"
   ]
  },
  {
   "cell_type": "code",
   "execution_count": 11,
   "id": "bearing-actor",
   "metadata": {},
   "outputs": [],
   "source": [
    "def is_key_exist(key, dictionary):\n",
    "    \"\"\"\n",
    "    Проверяет наличие ключа в словаре и возвращает True или False.\n",
    "    \"\"\"\n",
    "    if key in dictionary:\n",
    "        return True\n",
    "    else:\n",
    "        return False"
   ]
  },
  {
   "cell_type": "code",
   "execution_count": null,
   "id": "swedish-developer",
   "metadata": {},
   "outputs": [],
   "source": [
    "def is_value_empty(key, dictionary):\n",
    "    \"\"\"\n",
    "    Функция возвращает True если ключь существует в словаре и его значение не нулевой длинны.\n",
    "    \"\"\"\n",
    "    if is_key_exist(key, dictionary) and len(dictionary[key]) == 0:\n",
    "        return True\n",
    "    else:\n",
    "        return False"
   ]
  },
  {
   "cell_type": "code",
   "execution_count": 29,
   "id": "blessed-freedom",
   "metadata": {},
   "outputs": [],
   "source": [
    "def get_owener(number):\n",
    "    \"\"\"\n",
    "    Функция возвращает имя владельца документа по его номеру.\n",
    "    \"\"\"\n",
    "    true_flag = False\n",
    "\n",
    "    for i in range(len(documents)):\n",
    "        if documents[i]['number'] == str(number):\n",
    "            true_flag = True\n",
    "            index = i\n",
    "        else:\n",
    "            pass\n",
    "\n",
    "    if true_flag:\n",
    "        return documents[index]['name']\n",
    "    else:\n",
    "        print('Документа с таким номером не существует.')\n",
    "        return"
   ]
  },
  {
   "cell_type": "code",
   "execution_count": 5,
   "id": "identified-stations",
   "metadata": {},
   "outputs": [],
   "source": [
    "def get_shelf(number):\n",
    "    \"\"\"\n",
    "    Функция возвращает номер полки где хранися документ по его номеру.\n",
    "    \"\"\"\n",
    "    for item in directories:\n",
    "        for i in range(len(directories[item])):\n",
    "            if directories[item][i] == str(number):\n",
    "                #print(item)\n",
    "                return item\n",
    "    \n",
    "    return"
   ]
  },
  {
   "cell_type": "code",
   "execution_count": 19,
   "id": "disciplinary-message",
   "metadata": {},
   "outputs": [],
   "source": [
    "def get_info():\n",
    "    \"\"\"\n",
    "    Функция возвращает информацию по всем документа.\n",
    "    \"\"\"\n",
    "    \n",
    "    for i in range(len(documents)):\n",
    "        shelf_number = get_shelf(documents[i]['number'])\n",
    "        doc_type = documents[i]['type']\n",
    "        owner = documents[i]['name']\n",
    "        doc_number = documents[i]['number']\n",
    "        #print('№: %s, тип: %s, владелец: %s, полка хранения: %s' % (doc_number, doc_type, owner, shelf_number))\n",
    "        print(f\"№: {doc_number}, тип: {doc_type}, владелец: {owner}, полка хранения: {shelf_number}\")\n",
    "    return"
   ]
  },
  {
   "cell_type": "code",
   "execution_count": 9,
   "id": "touched-anniversary",
   "metadata": {},
   "outputs": [],
   "source": [
    "def add_shelf(number, dictionary):\n",
    "    \"\"\"\n",
    "    Добавляем новую полку.\n",
    "    \"\"\"\n",
    "    if is_key_exist(number, dictionary) == False:\n",
    "        dictionary[number] = []\n",
    "        print('Полка добавлена.')\n",
    "    else:\n",
    "        print('Полка уже существует.')\n",
    "    return"
   ]
  },
  {
   "cell_type": "code",
   "execution_count": null,
   "id": "collective-entity",
   "metadata": {},
   "outputs": [],
   "source": [
    "def delete_shelf(shelf_number, dictionary):\n",
    "    \"\"\"\n",
    "    Удаляем полку, если она существует и пустая.\n",
    "    \"\"\"\n",
    "    if is_value_empty(shelf_number, dictionary):\n",
    "        dictionary.pop(shelf_number)\n",
    "        print('Полка удалена.')\n",
    "    else:\n",
    "        print('Удалить полку не возможно т.к. она не существует или не пустая.')\n",
    "    return"
   ]
  },
  {
   "cell_type": "code",
   "execution_count": 17,
   "id": "pleased-incident",
   "metadata": {},
   "outputs": [],
   "source": [
    "def main():\n",
    "    \"\"\"\n",
    "    Главная функция.\n",
    "    \"\"\"\n",
    "    print('Список команд:' + '\\n' +\n",
    "          'l - все доступные документы и полки на которых они лежат' + '\\n' +\n",
    "          'p - вывести имя владельца по номеру документа' + '\\n' +\n",
    "          's - узнать полку хранения документа по его номеру' + '\\n' +\n",
    "          'ds - удалить пустую полку по её номеру')\n",
    "    \n",
    "    while True:\n",
    "        x = str(input('Введите команду: '))\n",
    "        if x == 'l':\n",
    "            get_info()\n",
    "        elif x == 'p':\n",
    "            dn = str(input('Введите номер документа:'))\n",
    "            print(get_owener(dn))\n",
    "        elif x == 's':\n",
    "            print(get_shelf('11-2'))\n",
    "        elif x == 'ds':\n",
    "            sn = str(input('Удаление полки! Введите номер:'))\n",
    "            delete_shelf(sn, directories)\n",
    "        elif x == 'q':\n",
    "            break\n",
    "    "
   ]
  },
  {
   "cell_type": "code",
   "execution_count": 30,
   "id": "optimum-render",
   "metadata": {},
   "outputs": [
    {
     "name": "stdout",
     "output_type": "stream",
     "text": [
      "Список команд:\n",
      "l - все доступные документы и полки на которых они лежат\n",
      "p - вывести имя владельца по номеру документа\n",
      "s - узнать полку хранения документа по его номеру\n",
      "ds - удалить пустую полку по её номеру\n",
      "Введите команду: p\n",
      "Введите номер документа:MM-2-31\n",
      "Документа с таким номером не существует.\n",
      "None\n",
      "Введите команду: q\n"
     ]
    }
   ],
   "source": [
    "main()"
   ]
  }
 ],
 "metadata": {
  "kernelspec": {
   "display_name": "Python 3",
   "language": "python",
   "name": "python3"
  },
  "language_info": {
   "codemirror_mode": {
    "name": "ipython",
    "version": 3
   },
   "file_extension": ".py",
   "mimetype": "text/x-python",
   "name": "python",
   "nbconvert_exporter": "python",
   "pygments_lexer": "ipython3",
   "version": "3.9.4"
  }
 },
 "nbformat": 4,
 "nbformat_minor": 5
}

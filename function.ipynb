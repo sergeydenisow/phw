{
 "cells": [
  {
   "cell_type": "markdown",
   "id": "endless-arabic",
   "metadata": {},
   "source": [
    "# Функции"
   ]
  },
  {
   "cell_type": "code",
   "execution_count": 1,
   "id": "prescribed-colony",
   "metadata": {},
   "outputs": [],
   "source": [
    "documents = [\n",
    " {'type': 'passport', 'number': '2207 876234', 'name': 'Василий Гупкин'},\n",
    " {'type': 'invoice', 'number': '11-2', 'name': 'Геннадий Покемонов'},\n",
    " {'type': 'insurance', 'number': '10006', 'name': 'Аристарх Павлов'}\n",
    "]"
   ]
  },
  {
   "cell_type": "code",
   "execution_count": 26,
   "id": "sustainable-think",
   "metadata": {},
   "outputs": [
    {
     "name": "stdout",
     "output_type": "stream",
     "text": [
      "2207 876234\n",
      "11-2\n",
      "10006\n"
     ]
    }
   ],
   "source": [
    "for i in range(len(documents)):\n",
    "    print(documents[i]['number'])"
   ]
  },
  {
   "cell_type": "code",
   "execution_count": 123,
   "id": "above-deposit",
   "metadata": {},
   "outputs": [
    {
     "name": "stdout",
     "output_type": "stream",
     "text": [
      "dict_values([['2207 876234', '11-2'], ['10006'], ['MM-2-31']])\n"
     ]
    }
   ],
   "source": [
    "directories = {\n",
    " '1': ['2207 876234', '11-2'],\n",
    " '2': ['10006'],\n",
    " '3': ['MM-2-31']\n",
    "}\n",
    "\n",
    "print(directories.values())"
   ]
  },
  {
   "cell_type": "code",
   "execution_count": 113,
   "id": "blessed-freedom",
   "metadata": {},
   "outputs": [],
   "source": [
    "def get_owener(number):\n",
    "    \"\"\"\n",
    "    Функция возвращает имя владельца документа по его номеру.\n",
    "    \"\"\"\n",
    "    for i in range(len(documents)):\n",
    "        if documents[i]['number'] == str(number):\n",
    "            #print(documents[i]['name'])\n",
    "            return documents[i]['name']\n",
    "            break\n",
    "        else:\n",
    "            pass\n",
    "        #print('Документа с таким номером не существует.')\n",
    "    return"
   ]
  },
  {
   "cell_type": "code",
   "execution_count": 114,
   "id": "greatest-immunology",
   "metadata": {},
   "outputs": [
    {
     "data": {
      "text/plain": [
       "'Василий Гупкин'"
      ]
     },
     "execution_count": 114,
     "metadata": {},
     "output_type": "execute_result"
    }
   ],
   "source": [
    "get_owener('2207 876234')"
   ]
  },
  {
   "cell_type": "code",
   "execution_count": 107,
   "id": "identified-stations",
   "metadata": {},
   "outputs": [],
   "source": [
    "def get_shelf(number):\n",
    "    \"\"\"\n",
    "    Функция возвращает номер полки где хранися документ по его номеру.\n",
    "    \"\"\"\n",
    "    for item in directories:\n",
    "        for i in range(len(directories[item])):\n",
    "            if directories[item][i] == str(number):\n",
    "                #print(item)\n",
    "                return item\n",
    "    \n",
    "    return"
   ]
  },
  {
   "cell_type": "code",
   "execution_count": 108,
   "id": "arbitrary-completion",
   "metadata": {},
   "outputs": [
    {
     "data": {
      "text/plain": [
       "'1'"
      ]
     },
     "execution_count": 108,
     "metadata": {},
     "output_type": "execute_result"
    }
   ],
   "source": [
    "get_shelf('11-2')"
   ]
  },
  {
   "cell_type": "code",
   "execution_count": 111,
   "id": "disciplinary-message",
   "metadata": {},
   "outputs": [],
   "source": [
    "def get_info():\n",
    "    \"\"\"\n",
    "    Функция возвращает информацию по всем документа.\n",
    "    \"\"\"\n",
    "    \n",
    "    for i in range(len(documents)):\n",
    "        shelf_number = get_shelf(documents[i]['number'])\n",
    "        doc_type = documents[i]['type']\n",
    "        owner = documents[i]['name']\n",
    "        doc_number = documents[i]['number']\n",
    "        print('№: %s, тип: %s, владелец: %s, полка хранения: %s' % (doc_number, doc_type, owner, shelf_number))\n",
    "    return"
   ]
  },
  {
   "cell_type": "code",
   "execution_count": 112,
   "id": "intimate-shade",
   "metadata": {},
   "outputs": [
    {
     "name": "stdout",
     "output_type": "stream",
     "text": [
      "№: 2207 876234, тип: passport, владелец: Василий Гупкин, полка хранения: 1\n",
      "№: 11-2, тип: invoice, владелец: Геннадий Покемонов, полка хранения: 1\n",
      "№: 10006, тип: insurance, владелец: Аристарх Павлов, полка хранения: 2\n"
     ]
    }
   ],
   "source": [
    "get_info()"
   ]
  },
  {
   "cell_type": "code",
   "execution_count": 136,
   "id": "touched-anniversary",
   "metadata": {},
   "outputs": [],
   "source": [
    "def add_shelf(number, dictionary):\n",
    "    \"\"\"\n",
    "    Добавляем новую полку.\n",
    "    \"\"\"\n",
    "    if is_key_exist(number, dictionary) == False:\n",
    "        dictionary[number] = []\n",
    "        print('Полка добавлена.')\n",
    "    else:\n",
    "        print('Полка уже существует.')\n",
    "    return"
   ]
  },
  {
   "cell_type": "code",
   "execution_count": 139,
   "id": "graphic-segment",
   "metadata": {},
   "outputs": [
    {
     "name": "stdout",
     "output_type": "stream",
     "text": [
      "Полка уже существует.\n"
     ]
    }
   ],
   "source": [
    "add_shelf(5, directories)"
   ]
  },
  {
   "cell_type": "code",
   "execution_count": 138,
   "id": "limiting-anaheim",
   "metadata": {},
   "outputs": [
    {
     "name": "stdout",
     "output_type": "stream",
     "text": [
      "{'1': ['2207 876234', '11-2'], '2': ['10006'], '3': ['MM-2-31'], 'number': [], 5: []}\n"
     ]
    }
   ],
   "source": [
    "print(directories)"
   ]
  },
  {
   "cell_type": "code",
   "execution_count": 10,
   "id": "collective-entity",
   "metadata": {},
   "outputs": [],
   "source": [
    "def delete_shelf():\n",
    "    \"\"\"\n",
    "    Удаляем полку, если она существует.\n",
    "    \"\"\"\n",
    "    return"
   ]
  },
  {
   "cell_type": "code",
   "execution_count": 129,
   "id": "bearing-actor",
   "metadata": {},
   "outputs": [],
   "source": [
    "def is_key_exist(key, dictionary):\n",
    "    \"\"\"\n",
    "    Проверяет наличие ключа в словаре и возвращает True или False.\n",
    "    \"\"\"\n",
    "    if key in dictionary:\n",
    "        return True\n",
    "    else:\n",
    "        return False"
   ]
  },
  {
   "cell_type": "code",
   "execution_count": 128,
   "id": "clear-might",
   "metadata": {},
   "outputs": [
    {
     "data": {
      "text/plain": [
       "True"
      ]
     },
     "execution_count": 128,
     "metadata": {},
     "output_type": "execute_result"
    }
   ],
   "source": [
    "is_key_exist('2', directories)"
   ]
  },
  {
   "cell_type": "code",
   "execution_count": 121,
   "id": "pleased-incident",
   "metadata": {},
   "outputs": [],
   "source": [
    "def main():\n",
    "    x = str(input('Введите команду: '))\n",
    "    while x != 'q':\n",
    "        if x == 'l':\n",
    "            get_info()\n",
    "        elif x == 'p':\n",
    "            print(get_owener('10006'))\n",
    "        elif x == 's':\n",
    "            print(get_shelf('11-2'))\n",
    "        break"
   ]
  },
  {
   "cell_type": "code",
   "execution_count": 124,
   "id": "optimum-render",
   "metadata": {},
   "outputs": [
    {
     "name": "stdout",
     "output_type": "stream",
     "text": [
      "Введите команду: l\n",
      "№: 2207 876234, тип: passport, владелец: Василий Гупкин, полка хранения: 1\n",
      "№: 11-2, тип: invoice, владелец: Геннадий Покемонов, полка хранения: 1\n",
      "№: 10006, тип: insurance, владелец: Аристарх Павлов, полка хранения: 2\n"
     ]
    }
   ],
   "source": [
    "main()"
   ]
  }
 ],
 "metadata": {
  "kernelspec": {
   "display_name": "Python 3",
   "language": "python",
   "name": "python3"
  },
  "language_info": {
   "codemirror_mode": {
    "name": "ipython",
    "version": 3
   },
   "file_extension": ".py",
   "mimetype": "text/x-python",
   "name": "python",
   "nbconvert_exporter": "python",
   "pygments_lexer": "ipython3",
   "version": "3.9.2"
  }
 },
 "nbformat": 4,
 "nbformat_minor": 5
}

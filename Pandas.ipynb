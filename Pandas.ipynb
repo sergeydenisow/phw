{
 "cells": [
  {
   "cell_type": "markdown",
   "id": "3db71741",
   "metadata": {},
   "source": [
    "# Pandas основы."
   ]
  },
  {
   "cell_type": "code",
   "execution_count": 1,
   "id": "ae2fbc7d",
   "metadata": {},
   "outputs": [],
   "source": [
    "import pandas as pd"
   ]
  },
  {
   "cell_type": "markdown",
   "id": "54dbf63c",
   "metadata": {},
   "source": [
    "## Задание №1."
   ]
  },
  {
   "cell_type": "code",
   "execution_count": 3,
   "id": "c5ed08ff",
   "metadata": {},
   "outputs": [
    {
     "data": {
      "text/html": [
       "<div>\n",
       "<style scoped>\n",
       "    .dataframe tbody tr th:only-of-type {\n",
       "        vertical-align: middle;\n",
       "    }\n",
       "\n",
       "    .dataframe tbody tr th {\n",
       "        vertical-align: top;\n",
       "    }\n",
       "\n",
       "    .dataframe thead th {\n",
       "        text-align: right;\n",
       "    }\n",
       "</style>\n",
       "<table border=\"1\" class=\"dataframe\">\n",
       "  <thead>\n",
       "    <tr style=\"text-align: right;\">\n",
       "      <th></th>\n",
       "      <th>movieId</th>\n",
       "      <th>title</th>\n",
       "      <th>genres</th>\n",
       "    </tr>\n",
       "  </thead>\n",
       "  <tbody>\n",
       "    <tr>\n",
       "      <th>277</th>\n",
       "      <td>318</td>\n",
       "      <td>Shawshank Redemption, The (1994)</td>\n",
       "      <td>Crime|Drama</td>\n",
       "    </tr>\n",
       "  </tbody>\n",
       "</table>\n",
       "</div>"
      ],
      "text/plain": [
       "     movieId                             title       genres\n",
       "277      318  Shawshank Redemption, The (1994)  Crime|Drama"
      ]
     },
     "execution_count": 3,
     "metadata": {},
     "output_type": "execute_result"
    }
   ],
   "source": [
    "# Путь к файлам данных.\n",
    "path_1 = '../ml-latest-small/'\n",
    "\n",
    "# Загружаем данные по рейтинга и фильмам.\n",
    "ratings = pd.read_csv(path_1 + 'ratings.csv')\n",
    "movies = pd.read_csv(path_1 + 'movies.csv')\n",
    "\n",
    "# Определяем фильм который чаще всего оценивали на 5.0 и получаем его ID.\n",
    "movie_rating = ratings[['movieId', 'rating']]\n",
    "index_of_most_rated_move = movie_rating[ movie_rating.rating == 5 ].value_counts().index[0][0]\n",
    "# Определяем название фильма по его ID.\n",
    "movies[ movies.movieId == index_of_most_rated_move ]"
   ]
  },
  {
   "cell_type": "markdown",
   "id": "68572d45",
   "metadata": {},
   "source": [
    "## Задание №2."
   ]
  },
  {
   "cell_type": "code",
   "execution_count": 4,
   "id": "2889bd1d",
   "metadata": {},
   "outputs": [
    {
     "data": {
      "text/plain": [
       "240580.0"
      ]
     },
     "execution_count": 4,
     "metadata": {},
     "output_type": "execute_result"
    }
   ],
   "source": [
    "path_2 = '../10._Основы_pandas/'\n",
    "power = pd.read_csv(path_2 + 'power.csv')\n",
    "\n",
    "# Оставляем только страны Прибалтики\n",
    "filter_1 = power[ (power['country'] == 'Lithuania') | (power['country'] == 'Latvia') | (power['country'] == 'Estonia')]\n",
    "# Рассматриваем период с 2005 по 2010 годы включительно и quantity больше нуля. Суммировать 0 нет смысла.\n",
    "filter_2 = filter_1[ (filter_1['year'] >= 2005) & (filter_1['year'] <= 2010) & (filter_1['quantity'] > 0.0) ]\n",
    "# Отбираем категории 4, 12 и 21.\n",
    "filter_3 = filter_2[ (filter_2['category'] == 4) | (filter_2['category'] == 12) | (filter_2['category'] == 21) ]\n",
    "filter_3['quantity'].sum()"
   ]
  },
  {
   "cell_type": "markdown",
   "id": "34ae90d7",
   "metadata": {},
   "source": [
    "## Задание №3."
   ]
  },
  {
   "cell_type": "code",
   "execution_count": 2,
   "id": "6214bd7e",
   "metadata": {},
   "outputs": [
    {
     "data": {
      "text/html": [
       "<div>\n",
       "<style scoped>\n",
       "    .dataframe tbody tr th:only-of-type {\n",
       "        vertical-align: middle;\n",
       "    }\n",
       "\n",
       "    .dataframe tbody tr th {\n",
       "        vertical-align: top;\n",
       "    }\n",
       "\n",
       "    .dataframe thead th {\n",
       "        text-align: right;\n",
       "    }\n",
       "</style>\n",
       "<table border=\"1\" class=\"dataframe\">\n",
       "  <thead>\n",
       "    <tr style=\"text-align: right;\">\n",
       "      <th></th>\n",
       "      <th>Дата</th>\n",
       "      <th>Максимальная температура</th>\n",
       "      <th>Минимальная температура</th>\n",
       "      <th>Средняя температура</th>\n",
       "      <th>Атмосферное давление</th>\n",
       "      <th>Скорость ветра</th>\n",
       "      <th>Осадки</th>\n",
       "      <th>Эффективная температура</th>\n",
       "    </tr>\n",
       "  </thead>\n",
       "  <tbody>\n",
       "    <tr>\n",
       "      <th>0</th>\n",
       "      <td>01 января</td>\n",
       "      <td>-4.5</td>\n",
       "      <td>-9.4</td>\n",
       "      <td>-6.8</td>\n",
       "      <td>NaN</td>\n",
       "      <td>4</td>\n",
       "      <td>0</td>\n",
       "      <td>-11.6</td>\n",
       "    </tr>\n",
       "    <tr>\n",
       "      <th>1</th>\n",
       "      <td>02 января</td>\n",
       "      <td>-4.5</td>\n",
       "      <td>-8.6</td>\n",
       "      <td>-6.5</td>\n",
       "      <td>NaN</td>\n",
       "      <td>4</td>\n",
       "      <td>0</td>\n",
       "      <td>-11.1</td>\n",
       "    </tr>\n",
       "    <tr>\n",
       "      <th>2</th>\n",
       "      <td>03 января</td>\n",
       "      <td>-4.6</td>\n",
       "      <td>-9.2</td>\n",
       "      <td>-6.7</td>\n",
       "      <td>NaN</td>\n",
       "      <td>4</td>\n",
       "      <td>0</td>\n",
       "      <td>-11.6</td>\n",
       "    </tr>\n",
       "    <tr>\n",
       "      <th>3</th>\n",
       "      <td>04 января</td>\n",
       "      <td>-4.9</td>\n",
       "      <td>-9.9</td>\n",
       "      <td>-7.1</td>\n",
       "      <td>NaN</td>\n",
       "      <td>4</td>\n",
       "      <td>0</td>\n",
       "      <td>-11.8</td>\n",
       "    </tr>\n",
       "    <tr>\n",
       "      <th>4</th>\n",
       "      <td>05 января</td>\n",
       "      <td>-4.7</td>\n",
       "      <td>-9.7</td>\n",
       "      <td>-6.9</td>\n",
       "      <td>NaN</td>\n",
       "      <td>4</td>\n",
       "      <td>0</td>\n",
       "      <td>-11.8</td>\n",
       "    </tr>\n",
       "  </tbody>\n",
       "</table>\n",
       "</div>"
      ],
      "text/plain": [
       "        Дата  Максимальная температура  Минимальная температура  \\\n",
       "0  01 января                      -4.5                     -9.4   \n",
       "1  02 января                      -4.5                     -8.6   \n",
       "2  03 января                      -4.6                     -9.2   \n",
       "3  04 января                      -4.9                     -9.9   \n",
       "4  05 января                      -4.7                     -9.7   \n",
       "\n",
       "   Средняя температура  Атмосферное давление  Скорость ветра  Осадки  \\\n",
       "0                 -6.8                   NaN               4       0   \n",
       "1                 -6.5                   NaN               4       0   \n",
       "2                 -6.7                   NaN               4       0   \n",
       "3                 -7.1                   NaN               4       0   \n",
       "4                 -6.9                   NaN               4       0   \n",
       "\n",
       "   Эффективная температура  \n",
       "0                    -11.6  \n",
       "1                    -11.1  \n",
       "2                    -11.6  \n",
       "3                    -11.8  \n",
       "4                    -11.8  "
      ]
     },
     "execution_count": 2,
     "metadata": {},
     "output_type": "execute_result"
    }
   ],
   "source": [
    "# Температура в Москве(Шереметьево) с 1 января по 27 мая 2021.\n",
    "\n",
    "url = 'http://pogoda-service.ru/climate_table.php?country=RS&station=275155&day_begin=01&month_begin=01&day_end=27&month_end=05'\n",
    "climat = pd.read_html(url, encoding='utf-8')[1]\n",
    "# climat['Максимальная температура']\n",
    "climat.head(5)"
   ]
  }
 ],
 "metadata": {
  "kernelspec": {
   "display_name": "Python 3",
   "language": "python",
   "name": "python3"
  },
  "language_info": {
   "codemirror_mode": {
    "name": "ipython",
    "version": 3
   },
   "file_extension": ".py",
   "mimetype": "text/x-python",
   "name": "python",
   "nbconvert_exporter": "python",
   "pygments_lexer": "ipython3",
   "version": "3.9.5"
  }
 },
 "nbformat": 4,
 "nbformat_minor": 5
}

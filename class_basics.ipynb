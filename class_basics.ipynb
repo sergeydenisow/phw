{
 "cells": [
  {
   "cell_type": "markdown",
   "id": "controlled-protection",
   "metadata": {},
   "source": [
    "# Основы работы с классами."
   ]
  },
  {
   "cell_type": "markdown",
   "id": "psychological-reproduction",
   "metadata": {},
   "source": [
    "## Задание 1."
   ]
  },
  {
   "cell_type": "code",
   "execution_count": 1,
   "id": "agricultural-leave",
   "metadata": {},
   "outputs": [],
   "source": [
    "import requests\n",
    "import operator"
   ]
  },
  {
   "cell_type": "code",
   "execution_count": 2,
   "id": "controversial-titanium",
   "metadata": {},
   "outputs": [],
   "source": [
    "# def usd():\n",
    "#     full_data = requests.get('https://www.cbr-xml-daily.ru/daily_json.js').json()\n",
    "#     return full_data['Valute']['USD']['Value']"
   ]
  },
  {
   "cell_type": "code",
   "execution_count": 3,
   "id": "australian-massage",
   "metadata": {},
   "outputs": [
    {
     "data": {
      "text/plain": [
       "'СДР (специальные права заимствования)'"
      ]
     },
     "execution_count": 3,
     "metadata": {},
     "output_type": "execute_result"
    }
   ],
   "source": [
    "from libs.exchange import Rate\n",
    "\n",
    "currency_rate = {}\n",
    "for key in Rate().exchange_rates().keys():\n",
    "    currency_rate.update({key : Rate().exchange_rates()[key]['Value']})\n",
    "#     print(key, Rate().exchange_rates()[key]['Value'])\n",
    "\n",
    "max_rate = max(currency_rate.items(), key=operator.itemgetter(1))[0]\n",
    "Rate().exchange_rates()[max_rate]['Name']"
   ]
  },
  {
   "cell_type": "markdown",
   "id": "painted-christmas",
   "metadata": {},
   "source": [
    "## Задание 2."
   ]
  },
  {
   "cell_type": "code",
   "execution_count": 4,
   "id": "passive-empty",
   "metadata": {},
   "outputs": [
    {
     "data": {
      "text/plain": [
       "-0.01"
      ]
     },
     "execution_count": 4,
     "metadata": {},
     "output_type": "execute_result"
    }
   ],
   "source": [
    "r = Rate(diff=True)\n",
    "r.make_format('AZN')"
   ]
  },
  {
   "cell_type": "markdown",
   "id": "hairy-hunter",
   "metadata": {},
   "source": [
    "## Задание 3."
   ]
  },
  {
   "cell_type": "code",
   "execution_count": 8,
   "id": "packed-export",
   "metadata": {},
   "outputs": [],
   "source": [
    "class Employee:\n",
    "    def __init__(self, name, seniority):\n",
    "        self.name = name\n",
    "        self.seniority = seniority\n",
    "        \n",
    "        self.grade = 1\n",
    "    \n",
    "    def grade_up(self):\n",
    "        \"\"\"Повышает уровень сотрудника\"\"\"\n",
    "        self.grade += 1\n",
    "    \n",
    "    def publish_grade(self):\n",
    "        \"\"\"Публикация результатов аккредитации сотрудников\"\"\"\n",
    "        print(self.name, self.grade)\n",
    "    \n",
    "    def check_if_it_is_time_for_upgrade(self):\n",
    "        pass"
   ]
  },
  {
   "cell_type": "code",
   "execution_count": 6,
   "id": "yellow-tissue",
   "metadata": {},
   "outputs": [],
   "source": [
    "class Designer(Employee):\n",
    "    def __init__(self, name, seniority):\n",
    "        super().__init__(name, seniority)\n",
    "        \n",
    "        self.get_new_award = True\n",
    "        self.award = 2\n",
    "\n",
    "        \n",
    "    def check_if_it_is_time_for_upgrade(self):\n",
    "        # для каждой аккредитации увеличиваем счетчик на 1\n",
    "        # пока считаем, что все разработчики проходят аккредитацию\n",
    "        \n",
    "        if self.get_new_award:\n",
    "            self.seniority = self.seniority + self.award * 2\n",
    "            self.get_new_award = False\n",
    "        else:\n",
    "            self.seniority += 1\n",
    "            \n",
    "        # условие повышения сотрудника из презентации\n",
    "        if self.seniority % 7 == 0:\n",
    "            self.grade_up()\n",
    "        \n",
    "        # публикация результатов\n",
    "        return self.publish_grade()"
   ]
  },
  {
   "cell_type": "code",
   "execution_count": 9,
   "id": "nearby-bradley",
   "metadata": {},
   "outputs": [
    {
     "name": "stdout",
     "output_type": "stream",
     "text": [
      "Alex 1 4\n",
      "Alex 1 5\n",
      "Alex 1 6\n",
      "Alex 2 7\n",
      "Alex 2 8\n",
      "Alex 2 9\n",
      "Alex 2 10\n",
      "Alex 2 11\n",
      "Alex 2 12\n",
      "Alex 2 13\n",
      "Alex 3 14\n",
      "Alex 3 15\n",
      "Alex 3 16\n",
      "Alex 3 17\n",
      "Alex 3 18\n",
      "Alex 3 19\n",
      "Alex 3 20\n",
      "Alex 4 21\n",
      "Alex 4 22\n",
      "Alex 4 23\n"
     ]
    }
   ],
   "source": [
    "d = Designer('Alex', 0)\n",
    "for i in range(20):\n",
    "    d.check_if_it_is_time_for_upgrade()"
   ]
  }
 ],
 "metadata": {
  "kernelspec": {
   "display_name": "Python 3",
   "language": "python",
   "name": "python3"
  },
  "language_info": {
   "codemirror_mode": {
    "name": "ipython",
    "version": 3
   },
   "file_extension": ".py",
   "mimetype": "text/x-python",
   "name": "python",
   "nbconvert_exporter": "python",
   "pygments_lexer": "ipython3",
   "version": "3.9.2"
  }
 },
 "nbformat": 4,
 "nbformat_minor": 5
}

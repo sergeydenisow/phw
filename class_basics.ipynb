{
 "cells": [
  {
   "cell_type": "markdown",
   "id": "controlled-protection",
   "metadata": {},
   "source": [
    "# Основы работы с классами."
   ]
  },
  {
   "cell_type": "markdown",
   "id": "psychological-reproduction",
   "metadata": {},
   "source": [
    "## Определение рабочего класса."
   ]
  },
  {
   "cell_type": "code",
   "execution_count": 1,
   "id": "agricultural-leave",
   "metadata": {},
   "outputs": [],
   "source": [
    "import requests\n",
    "import operator"
   ]
  },
  {
   "cell_type": "code",
   "execution_count": 13,
   "id": "controversial-titanium",
   "metadata": {},
   "outputs": [],
   "source": [
    "class Rate:\n",
    "    def __init__(self, format='value', diff = False):\n",
    "        self.format = format\n",
    "        # Добавляем параметр diff для обределение разницы курса валют в сравнении с предидущим показанием.\n",
    "        self.diff = diff\n",
    "\n",
    "    def exchange_rates(self):\n",
    "        \"\"\"\n",
    "        Возвращает ответ сервиса с информацией о валютах в виде:\n",
    "\n",
    "        {\n",
    "            'AMD': {\n",
    "                'CharCode': 'AMD',\n",
    "                'ID': 'R01060',\n",
    "                'Name': 'Армянских драмов',\n",
    "                'Nominal': 100,\n",
    "                'NumCode': '051',\n",
    "                'Previous': 14.103,\n",
    "                'Value': 14.0879\n",
    "                },\n",
    "            ...\n",
    "        }\n",
    "        \"\"\"\n",
    "        r = requests.get('https://www.cbr-xml-daily.ru/daily_json.js')\n",
    "        return r.json()['Valute']\n",
    "\n",
    "    def make_format(self, currency):\n",
    "        \"\"\"\n",
    "        Возвращает информацию о валюте currency в двух вариантах:\n",
    "        - полная информация о валюте при self.format = 'full':\n",
    "        Rate('full').make_format('EUR')\n",
    "        {\n",
    "            'CharCode': 'EUR',\n",
    "            'ID': 'R01239',\n",
    "            'Name': 'Евро',\n",
    "            'Nominal': 1,\n",
    "            'NumCode': '978',\n",
    "            'Previous': 79.6765,\n",
    "            'Value': 79.4966\n",
    "        }\n",
    "\n",
    "        Rate('value').make_format('EUR')\n",
    "        79.4966\n",
    "        \"\"\"\n",
    "        response = self.exchange_rates()\n",
    "\n",
    "        if currency in response:\n",
    "            if self.format == 'full':\n",
    "                return response[currency]\n",
    "\n",
    "            if self.format == 'value':\n",
    "                # Если diff = True, то выводим разницу в курсах в сравнении с предидущими показаниями.\n",
    "                if self.diff == True:\n",
    "                    return round(response[currency]['Value'] - response[currency]['Previous'], 2)\n",
    "                else:\n",
    "                    return response[currency]['Value']\n",
    "\n",
    "        return 'Error'\n",
    "\n",
    "    def eur(self):\n",
    "        \"\"\"Возвращает курс евро на сегодня в формате self.format\"\"\"\n",
    "        return self.make_format('EUR')\n",
    "\n",
    "    def usd(self):\n",
    "        \"\"\"Возвращает курс доллара на сегодня в формате self.format\"\"\"\n",
    "        return self.make_format('USD')\n",
    "\n",
    "    def AZN(self):\n",
    "        \"\"\"Возвращает курс азербайджанского маната на сегодня в формате self.format\"\"\"\n",
    "        return self.make_format('AZN')"
   ]
  },
  {
   "cell_type": "markdown",
   "id": "false-google",
   "metadata": {},
   "source": [
    "## Задание №1."
   ]
  },
  {
   "cell_type": "code",
   "execution_count": 12,
   "id": "australian-massage",
   "metadata": {},
   "outputs": [
    {
     "data": {
      "text/plain": [
       "'СДР (специальные права заимствования)'"
      ]
     },
     "execution_count": 12,
     "metadata": {},
     "output_type": "execute_result"
    }
   ],
   "source": [
    "# from libs.exchange import Rate\n",
    "\n",
    "currency_rate = {} #для определения максимального курса.\n",
    "for key in Rate().exchange_rates().keys():\n",
    "    currency_rate.update({key : Rate().exchange_rates()[key]['Value']})\n",
    "\n",
    "# Определяем максимальное значение среди величин (value).\n",
    "max_rate = max(currency_rate.items(), key=operator.itemgetter(1))[0]\n",
    "Rate().exchange_rates()[max_rate]['Name']"
   ]
  },
  {
   "cell_type": "markdown",
   "id": "painted-christmas",
   "metadata": {},
   "source": [
    "## Задание 2."
   ]
  },
  {
   "cell_type": "code",
   "execution_count": 15,
   "id": "passive-empty",
   "metadata": {},
   "outputs": [
    {
     "data": {
      "text/plain": [
       "-0.01"
      ]
     },
     "execution_count": 15,
     "metadata": {},
     "output_type": "execute_result"
    }
   ],
   "source": [
    "r = Rate(diff=True)\n",
    "r.make_format('AZN')"
   ]
  },
  {
   "cell_type": "markdown",
   "id": "hairy-hunter",
   "metadata": {},
   "source": [
    "## Задание 3."
   ]
  },
  {
   "cell_type": "code",
   "execution_count": 5,
   "id": "packed-export",
   "metadata": {},
   "outputs": [],
   "source": [
    "class Employee:\n",
    "    def __init__(self, name, seniority):\n",
    "        self.name = name\n",
    "        self.seniority = seniority\n",
    "        \n",
    "        self.grade = 1\n",
    "    \n",
    "    def grade_up(self):\n",
    "        \"\"\"Повышает уровень сотрудника\"\"\"\n",
    "        self.grade += 1\n",
    "    \n",
    "    def publish_grade(self):\n",
    "        \"\"\"Публикация результатов аккредитации сотрудников\"\"\"\n",
    "        print(self.name, self.grade)\n",
    "    \n",
    "    def check_if_it_is_time_for_upgrade(self):\n",
    "        pass"
   ]
  },
  {
   "cell_type": "code",
   "execution_count": 6,
   "id": "yellow-tissue",
   "metadata": {},
   "outputs": [],
   "source": [
    "class Designer(Employee):\n",
    "    def __init__(self, name, seniority):\n",
    "        super().__init__(name, seniority)\n",
    "        \n",
    "        # В начале карьеры у каждого дизайнера по 2 приза.\n",
    "        self.get_new_award = True\n",
    "        self.award = 2\n",
    "\n",
    "        \n",
    "    def check_if_it_is_time_for_upgrade(self):\n",
    "        \"\"\"\n",
    "        Если дизайнер получете приз на фестивале (self.get_new_award = True),\n",
    "        то повышаем его рейтинг на 2 бала за каждый приз.\n",
    "        Если призов нет, то увеличиваем рейтинг на 1 за выслугу лет.\n",
    "        \"\"\"\n",
    "        # \n",
    "        \n",
    "        if self.get_new_award:\n",
    "            self.seniority = self.seniority + self.award * 2\n",
    "            self.get_new_award = False\n",
    "        else:\n",
    "            self.seniority += 1\n",
    "            \n",
    "        # условие повышения сотрудника из презентации\n",
    "        if self.seniority % 7 == 0:\n",
    "            self.grade_up()\n",
    "        \n",
    "        # публикация результатов\n",
    "        return self.publish_grade()"
   ]
  },
  {
   "cell_type": "code",
   "execution_count": 7,
   "id": "nearby-bradley",
   "metadata": {},
   "outputs": [
    {
     "name": "stdout",
     "output_type": "stream",
     "text": [
      "Alex 1\n",
      "Alex 1\n",
      "Alex 1\n",
      "Alex 2\n",
      "Alex 2\n",
      "Alex 2\n",
      "Alex 2\n",
      "Alex 2\n",
      "Alex 2\n",
      "Alex 2\n",
      "Alex 3\n",
      "Alex 3\n",
      "Alex 3\n",
      "Alex 3\n",
      "Alex 3\n",
      "Alex 3\n",
      "Alex 3\n",
      "Alex 4\n",
      "Alex 4\n",
      "Alex 4\n"
     ]
    }
   ],
   "source": [
    "d = Designer('Alex', 0)\n",
    "for i in range(20):\n",
    "    d.check_if_it_is_time_for_upgrade()"
   ]
  }
 ],
 "metadata": {
  "kernelspec": {
   "display_name": "Python 3",
   "language": "python",
   "name": "python3"
  },
  "language_info": {
   "codemirror_mode": {
    "name": "ipython",
    "version": 3
   },
   "file_extension": ".py",
   "mimetype": "text/x-python",
   "name": "python",
   "nbconvert_exporter": "python",
   "pygments_lexer": "ipython3",
   "version": "3.9.4"
  }
 },
 "nbformat": 4,
 "nbformat_minor": 5
}

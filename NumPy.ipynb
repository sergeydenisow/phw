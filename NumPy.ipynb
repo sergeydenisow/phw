{
 "cells": [
  {
   "cell_type": "markdown",
   "id": "28d12ca7",
   "metadata": {},
   "source": [
    "# NumPy"
   ]
  },
  {
   "cell_type": "code",
   "execution_count": 2,
   "id": "a7439d49",
   "metadata": {},
   "outputs": [],
   "source": [
    "import numpy as np"
   ]
  },
  {
   "cell_type": "markdown",
   "id": "df484e09",
   "metadata": {},
   "source": [
    "## Задание №1."
   ]
  },
  {
   "cell_type": "code",
   "execution_count": 4,
   "id": "3f236b88",
   "metadata": {},
   "outputs": [],
   "source": [
    "# def get_reverse_vector(start, stop, step):\n",
    "#     return np.arange(start, stop, -1 * step)"
   ]
  },
  {
   "cell_type": "code",
   "execution_count": 3,
   "id": "adf8eee1",
   "metadata": {},
   "outputs": [
    {
     "data": {
      "text/plain": [
       "array([10,  9,  8,  7,  6,  5,  4,  3,  2,  1])"
      ]
     },
     "execution_count": 3,
     "metadata": {},
     "output_type": "execute_result"
    }
   ],
   "source": [
    "# x = get_reverse_vector(10, 0, 1)\n",
    "np.arange(10, 0, -1)"
   ]
  },
  {
   "cell_type": "markdown",
   "id": "a0194f70",
   "metadata": {},
   "source": [
    "## Задание №2."
   ]
  },
  {
   "cell_type": "code",
   "execution_count": 6,
   "id": "ad0da65b",
   "metadata": {},
   "outputs": [
    {
     "name": "stdout",
     "output_type": "stream",
     "text": [
      "След матрицы: 55.0\n"
     ]
    }
   ],
   "source": [
    "E = np.eye(10)             # Еденичная мастрица Е\n",
    "\n",
    "X = np.arange(10, 0, -1)   # X вектор [10,  9,  8,  7,  6,  5,  4,  3,  2,  1]\n",
    "\n",
    "Diag = E*X                 # Диагональная матрица из элементов вектора X\n",
    "\n",
    "Tr = 0                     # След матрицы\n",
    "\n",
    "for i in range(len(Diag)):\n",
    "    Tr += Diag[i][i]\n",
    "print(f'След матрицы: {Tr}')"
   ]
  },
  {
   "cell_type": "markdown",
   "id": "d987e03c",
   "metadata": {},
   "source": [
    "## Задание №3."
   ]
  },
  {
   "cell_type": "markdown",
   "id": "6e4f3421",
   "metadata": {},
   "source": [
    "Дана система линейных уравнений\n",
    "\n",
    "\\begin{equation*}\n",
    "\\LARGE\n",
    "4x + 2y + z = 4 \\\\\n",
    "\\LARGE\n",
    "x + 3y = 12 \\\\\n",
    "\\LARGE\n",
    "5y + 4z = -3\n",
    "\\end{equation*}"
   ]
  },
  {
   "cell_type": "code",
   "execution_count": 13,
   "id": "e6422dd8",
   "metadata": {},
   "outputs": [
    {
     "name": "stdout",
     "output_type": "stream",
     "text": [
      "X: 0.4667, Y: 3.844, Z: -5.556\n",
      "Проверка решения (А*XYZ = B): [ 4. 12. -3.]\n"
     ]
    }
   ],
   "source": [
    "from numpy import linalg\n",
    "\n",
    "A = np.array( [ [4, 2, 1], [1, 3, 0], [0, 5, 4] ])\n",
    "B = np.array( [4, 12, -3] )\n",
    "\n",
    "XYZ = linalg.solve(A, B)\n",
    "print(f'X: {XYZ[0]:.4}, Y: {XYZ[1]:.4}, Z: {XYZ[2]:.4}')\n",
    "print('Проверка решения (А*XYZ = B):', np.dot(A, XYZ))"
   ]
  },
  {
   "cell_type": "markdown",
   "id": "50b70790",
   "metadata": {},
   "source": [
    "## Задание №4."
   ]
  },
  {
   "cell_type": "code",
   "execution_count": 15,
   "id": "bdc7830b",
   "metadata": {},
   "outputs": [],
   "source": [
    "# Исходные данные.\n",
    "users_stats = np.array(\n",
    "    [\n",
    "        [2, 1, 0, 0, 0, 0],\n",
    "        [1, 1, 2, 1, 0, 0],\n",
    "        [2, 0, 1, 0, 0, 0],\n",
    "        [1, 1, 2, 1, 0, 1],\n",
    "        [0, 0, 1, 2, 0, 0],\n",
    "        [0, 0, 0, 0, 0, 5],\n",
    "        [1, 0, 0, 0, 0, 0],\n",
    "        [0, 1, 1, 0, 0, 0],\n",
    "        [0, 0, 0, 1, 1, 3],\n",
    "        [1, 0, 0, 2, 1, 4]\n",
    "    ], \n",
    "    np.int32\n",
    ")"
   ]
  },
  {
   "cell_type": "code",
   "execution_count": 16,
   "id": "3ac0e9cb",
   "metadata": {},
   "outputs": [],
   "source": [
    "# Исходные данные.\n",
    "next_user_stats = np.array([0, 1, 2, 0, 0, 0])"
   ]
  },
  {
   "cell_type": "code",
   "execution_count": 17,
   "id": "b3b6bcda",
   "metadata": {},
   "outputs": [],
   "source": [
    "# Функиция для косинусного расстояния из лекции.\n",
    "\n",
    "def cosine( a, b ):\n",
    "    \"\"\"\n",
    "    Подсчет косинуса угла между векторами a, b по их координатам\n",
    "    \"\"\"\n",
    "    \n",
    "    # длины векторов\n",
    "    aLength = np.linalg.norm( a )\n",
    "    bLength = np.linalg.norm( b )\n",
    "    \n",
    "    return np.dot( a, b ) / ( aLength * bLength )"
   ]
  },
  {
   "cell_type": "code",
   "execution_count": 19,
   "id": "c0e8ec29",
   "metadata": {},
   "outputs": [
    {
     "name": "stdout",
     "output_type": "stream",
     "text": [
      "A user #8 as similar to new one as posible - 0.95\n"
     ]
    }
   ],
   "source": [
    "similar = 0\n",
    "for i in range(len(users_stats)):\n",
    "    if cosine(users_stats[i], next_user_stats) > similar:\n",
    "        similar = cosine(users_stats[i], next_user_stats)\n",
    "        user_id = i + 1\n",
    "    else:\n",
    "        pass\n",
    "print(f'A user #{user_id} as similar to new one as posible - {similar:.2}')"
   ]
  }
 ],
 "metadata": {
  "kernelspec": {
   "display_name": "Python 3",
   "language": "python",
   "name": "python3"
  },
  "language_info": {
   "codemirror_mode": {
    "name": "ipython",
    "version": 3
   },
   "file_extension": ".py",
   "mimetype": "text/x-python",
   "name": "python",
   "nbconvert_exporter": "python",
   "pygments_lexer": "ipython3",
   "version": "3.9.5"
  }
 },
 "nbformat": 4,
 "nbformat_minor": 5
}

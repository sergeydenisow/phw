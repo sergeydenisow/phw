{
 "cells": [
  {
   "cell_type": "markdown",
   "id": "28d12ca7",
   "metadata": {},
   "source": [
    "# NumPy"
   ]
  },
  {
   "cell_type": "code",
   "execution_count": 1,
   "id": "a7439d49",
   "metadata": {},
   "outputs": [],
   "source": [
    "import numpy as np"
   ]
  },
  {
   "cell_type": "code",
   "execution_count": 10,
   "id": "40d227d6",
   "metadata": {},
   "outputs": [
    {
     "name": "stdout",
     "output_type": "stream",
     "text": [
      "[2 3]\n"
     ]
    }
   ],
   "source": [
    "x = np.arange(0,10)\n",
    "print(x[2:4])"
   ]
  },
  {
   "cell_type": "code",
   "execution_count": 17,
   "id": "723ae8c5",
   "metadata": {},
   "outputs": [
    {
     "data": {
      "text/plain": [
       "array([2, 2, 2, 2, 2, 2, 2, 2, 2, 2])"
      ]
     },
     "execution_count": 17,
     "metadata": {},
     "output_type": "execute_result"
    }
   ],
   "source": [
    "y = np.full(10, 2)\n",
    "y"
   ]
  },
  {
   "cell_type": "code",
   "execution_count": 19,
   "id": "48d8ffc2",
   "metadata": {},
   "outputs": [
    {
     "data": {
      "text/plain": [
       "array([[1, 1],\n",
       "       [1, 1]])"
      ]
     },
     "execution_count": 19,
     "metadata": {},
     "output_type": "execute_result"
    }
   ],
   "source": [
    "sq = np.full([2,2], 1)\n",
    "sq"
   ]
  },
  {
   "cell_type": "code",
   "execution_count": 2,
   "id": "d9e8552c",
   "metadata": {},
   "outputs": [
    {
     "data": {
      "text/plain": [
       "array([[ 8, 13],\n",
       "       [11,  6],\n",
       "       [14,  5],\n",
       "       [ 7, 12],\n",
       "       [ 9, 10]])"
      ]
     },
     "execution_count": 2,
     "metadata": {},
     "output_type": "execute_result"
    }
   ],
   "source": [
    "import random\n",
    "r = np.arange(5, 15, 1)\n",
    "random.shuffle(r)\n",
    "r.reshape(2, 5).T"
   ]
  },
  {
   "cell_type": "code",
   "execution_count": 35,
   "id": "ab7b6242",
   "metadata": {},
   "outputs": [
    {
     "data": {
      "text/plain": [
       "array([0., 0., 0., 0., 0.])"
      ]
     },
     "execution_count": 35,
     "metadata": {},
     "output_type": "execute_result"
    }
   ],
   "source": [
    "z = np.zeros(5)\n",
    "z"
   ]
  },
  {
   "cell_type": "code",
   "execution_count": 3,
   "id": "879ced25",
   "metadata": {},
   "outputs": [
    {
     "data": {
      "text/plain": [
       "array([[14.,  0.,  0.,  0.,  0.],\n",
       "       [ 0., 12.,  0.,  0.,  0.],\n",
       "       [ 0.,  0., 13.,  0.,  0.],\n",
       "       [ 0.,  0.,  0., 11.,  0.],\n",
       "       [ 0.,  0.,  0.,  0., 10.]])"
      ]
     },
     "execution_count": 3,
     "metadata": {},
     "output_type": "execute_result"
    }
   ],
   "source": [
    "e = np.eye(5, 5)\n",
    "k = np.arange(10, 15, 1)\n",
    "random.shuffle(k)\n",
    "mul = e*k\n",
    "mul"
   ]
  },
  {
   "cell_type": "code",
   "execution_count": 50,
   "id": "a15139ba",
   "metadata": {},
   "outputs": [
    {
     "data": {
      "text/plain": [
       "3"
      ]
     },
     "execution_count": 50,
     "metadata": {},
     "output_type": "execute_result"
    }
   ],
   "source": [
    "a = np.full(3, 1)\n",
    "b = np.full(3, 1)\n",
    "np.dot(a, b)"
   ]
  },
  {
   "cell_type": "markdown",
   "id": "df484e09",
   "metadata": {},
   "source": [
    "## Задание №1."
   ]
  },
  {
   "cell_type": "code",
   "execution_count": 4,
   "id": "3f236b88",
   "metadata": {},
   "outputs": [],
   "source": [
    "def get_reverse_vector(start, stop, step):\n",
    "    return np.arange(start, stop, -1 * step)"
   ]
  },
  {
   "cell_type": "code",
   "execution_count": 5,
   "id": "adf8eee1",
   "metadata": {},
   "outputs": [
    {
     "data": {
      "text/plain": [
       "array([10,  9,  8,  7,  6,  5,  4,  3,  2,  1])"
      ]
     },
     "execution_count": 5,
     "metadata": {},
     "output_type": "execute_result"
    }
   ],
   "source": [
    "x = get_reverse_vector(10, 0, 1)\n",
    "x"
   ]
  },
  {
   "cell_type": "markdown",
   "id": "a0194f70",
   "metadata": {},
   "source": [
    "## Задание №2."
   ]
  },
  {
   "cell_type": "code",
   "execution_count": 6,
   "id": "ad0da65b",
   "metadata": {},
   "outputs": [
    {
     "data": {
      "text/plain": [
       "55.0"
      ]
     },
     "execution_count": 6,
     "metadata": {},
     "output_type": "execute_result"
    }
   ],
   "source": [
    "E = np.eye(10)\n",
    "Diag = E*x\n",
    "Tr = 0\n",
    "for i in range(len(Diag)):\n",
    "    Tr += Diag[i][i]\n",
    "Tr"
   ]
  },
  {
   "cell_type": "markdown",
   "id": "d987e03c",
   "metadata": {},
   "source": [
    "## Задание №3."
   ]
  },
  {
   "cell_type": "markdown",
   "id": "6e4f3421",
   "metadata": {},
   "source": [
    "Дана система линейных уравнений\n",
    "\n",
    "\\begin{equation*}\n",
    "\\LARGE\n",
    "4x + 2y + z = 4 \\\\\n",
    "\\LARGE\n",
    "x + 3y = 12 \\\\\n",
    "\\LARGE\n",
    "5y + 4z = -3\n",
    "\\end{equation*}"
   ]
  },
  {
   "cell_type": "code",
   "execution_count": 18,
   "id": "e6422dd8",
   "metadata": {},
   "outputs": [
    {
     "name": "stdout",
     "output_type": "stream",
     "text": [
      "X: 0.4666666666666668, Y: 3.844444444444444, Z: -5.555555555555555\n",
      "Проверка решения (А*XYZ = B): [ 4. 12. -3.]\n"
     ]
    }
   ],
   "source": [
    "from numpy import linalg\n",
    "\n",
    "A = np.array( [ [4, 2, 1], [1, 3, 0], [0, 5, 4] ])\n",
    "B = np.array( [4, 12, -3] )\n",
    "\n",
    "XYZ = linalg.solve(A, B)\n",
    "print(f'X: {XYZ[0]}, Y: {XYZ[1]}, Z: {XYZ[2]}')\n",
    "print('Проверка решения (А*XYZ = B):', np.dot(A, XYZ))"
   ]
  },
  {
   "cell_type": "markdown",
   "id": "50b70790",
   "metadata": {},
   "source": [
    "## Задание №4."
   ]
  },
  {
   "cell_type": "code",
   "execution_count": 19,
   "id": "bdc7830b",
   "metadata": {},
   "outputs": [],
   "source": [
    "users_stats = np.array(\n",
    "    [\n",
    "        [2, 1, 0, 0, 0, 0],\n",
    "        [1, 1, 2, 1, 0, 0],\n",
    "        [2, 0, 1, 0, 0, 0],\n",
    "        [1, 1, 2, 1, 0, 1],\n",
    "        [0, 0, 1, 2, 0, 0],\n",
    "        [0, 0, 0, 0, 0, 5],\n",
    "        [1, 0, 0, 0, 0, 0],\n",
    "        [0, 1, 1, 0, 0, 0],\n",
    "        [0, 0, 0, 1, 1, 3],\n",
    "        [1, 0, 0, 2, 1, 4]\n",
    "    ], \n",
    "    np.int32\n",
    ")"
   ]
  },
  {
   "cell_type": "code",
   "execution_count": 53,
   "id": "3ac0e9cb",
   "metadata": {},
   "outputs": [],
   "source": [
    "next_user_stats = np.array([0, 1, 2, 0, 0, 0])"
   ]
  },
  {
   "cell_type": "code",
   "execution_count": 45,
   "id": "b3b6bcda",
   "metadata": {},
   "outputs": [],
   "source": [
    "def cosine( a, b ):\n",
    "    \"\"\"\n",
    "    Подсчет косинуса угла между векторами a, b по их координатам\n",
    "    \"\"\"\n",
    "    \n",
    "    # длины векторов\n",
    "    aLength = np.linalg.norm( a )\n",
    "    bLength = np.linalg.norm( b )\n",
    "    \n",
    "    return np.dot( a, b ) / ( aLength * bLength )"
   ]
  },
  {
   "cell_type": "code",
   "execution_count": 54,
   "id": "c0e8ec29",
   "metadata": {},
   "outputs": [
    {
     "name": "stdout",
     "output_type": "stream",
     "text": [
      "A user #8 as similar to new one as posible - 0.9486832980505138\n"
     ]
    }
   ],
   "source": [
    "similar = 0\n",
    "for i in range(len(users_stats)):\n",
    "    if cosine(users_stats[i], next_user_stats) > similar:\n",
    "        similar = cosine(users_stats[i], next_user_stats)\n",
    "        user_id = i + 1\n",
    "    else:\n",
    "        pass\n",
    "print(f'A user #{user_id} as similar to new one as posible - {similar}')"
   ]
  }
 ],
 "metadata": {
  "kernelspec": {
   "display_name": "Python 3",
   "language": "python",
   "name": "python3"
  },
  "language_info": {
   "codemirror_mode": {
    "name": "ipython",
    "version": 3
   },
   "file_extension": ".py",
   "mimetype": "text/x-python",
   "name": "python",
   "nbconvert_exporter": "python",
   "pygments_lexer": "ipython3",
   "version": "3.9.5"
  }
 },
 "nbformat": 4,
 "nbformat_minor": 5
}
